{
 "cells": [
  {
   "cell_type": "markdown",
   "metadata": {},
   "source": [
    "# MNIST\n",
    "\n",
    "Este notebook acompaña el post: sensioai.com/blog/mnist"
   ]
  },
  {
   "cell_type": "markdown",
   "metadata": {},
   "source": [
    "## Descarga y exploración de los datos"
   ]
  },
  {
   "cell_type": "code",
   "execution_count": 31,
   "metadata": {
    "ExecuteTime": {
     "end_time": "2020-02-23T13:18:32.348283Z",
     "start_time": "2020-02-23T13:18:14.603148Z"
    }
   },
   "outputs": [
    {
     "data": {
      "text/plain": [
       "((70000, 784), (70000,))"
      ]
     },
     "execution_count": 31,
     "metadata": {},
     "output_type": "execute_result"
    }
   ],
   "source": [
    "# descargar datos\n",
    "\n",
    "from sklearn.datasets import fetch_openml\n",
    "\n",
    "X, y = fetch_openml('mnist_784', version=1, return_X_y=True)\n",
    "y = y.astype(int)\n",
    "\n",
    "X.shape, y.shape"
   ]
  },
  {
   "cell_type": "code",
   "execution_count": 32,
   "metadata": {
    "ExecuteTime": {
     "end_time": "2020-02-23T13:18:34.076643Z",
     "start_time": "2020-02-23T13:18:33.780607Z"
    }
   },
   "outputs": [
    {
     "data": {
      "image/png": "[encoded data removed]",
      "text/plain": [
       "<Figure size 720x504 with 15 Axes>"
      ]
     },
     "metadata": {
      "needs_background": "light"
     },
     "output_type": "display_data"
    }
   ],
   "source": [
    "# visualizar imágenes\n",
    "\n",
    "import matplotlib.pyplot as plt\n",
    "import random\n",
    "\n",
    "fig, axs = plt.subplots(3,5, figsize=(10,7))\n",
    "for _ax in axs:\n",
    "    for ax in _ax:\n",
    "        ix = random.randint(0, len(X)-1)\n",
    "        img = X[ix].reshape((28,28))\n",
    "        ax.imshow(img)\n",
    "        ax.set_title(y[ix])\n",
    "        ax.axis('off')\n",
    "\n",
    "plt.show()"
   ]
  },
  {
   "cell_type": "code",
   "execution_count": 34,
   "metadata": {
    "ExecuteTime": {
     "end_time": "2020-02-23T13:18:39.084640Z",
     "start_time": "2020-02-23T13:18:38.908641Z"
    }
   },
   "outputs": [
    {
     "data": {
      "image/png": "[encoded data removed]",
      "text/plain": [
       "<Figure size 432x288 with 1 Axes>"
      ]
     },
     "metadata": {
      "needs_background": "light"
     },
     "output_type": "display_data"
    }
   ],
   "source": [
    "# distribución clases\n",
    "\n",
    "plt.hist(y, bins=10)\n",
    "plt.show()"
   ]
  },
  {
   "cell_type": "code",
   "execution_count": 35,
   "metadata": {
    "ExecuteTime": {
     "end_time": "2020-02-23T13:18:41.123613Z",
     "start_time": "2020-02-23T13:18:41.116611Z"
    }
   },
   "outputs": [
    {
     "data": {
      "text/plain": [
       "((60000, 784), (60000,), (10000, 784), (10000,))"
      ]
     },
     "execution_count": 35,
     "metadata": {},
     "output_type": "execute_result"
    }
   ],
   "source": [
    "# separar en train y test\n",
    "\n",
    "X_train, y_train, X_test, y_test = X[:60000], y[:60000], X[60000:], y[60000:]\n",
    "\n",
    "X_train.shape, y_train.shape, X_test.shape, y_test.shape"
   ]
  },
  {
   "cell_type": "markdown",
   "metadata": {},
   "source": [
    "## Entrenamiento Red Neuronal"
   ]
  },
  {
   "cell_type": "code",
   "execution_count": 70,
   "metadata": {
    "ExecuteTime": {
     "end_time": "2020-02-23T13:27:30.846136Z",
     "start_time": "2020-02-23T13:27:30.841131Z"
    }
   },
   "outputs": [],
   "source": [
    "# definir red\n",
    "\n",
    "import torch\n",
    "import torch.nn as nn\n",
    "\n",
    "model = nn.Sequential(\n",
    "    nn.Linear(784, 100),\n",
    "    nn.ReLU(),\n",
    "    nn.Linear(100, 100),\n",
    "    nn.ReLU(),\n",
    "    nn.Linear(100, 10)\n",
    ")"
   ]
  },
  {
   "cell_type": "code",
   "execution_count": 71,
   "metadata": {
    "ExecuteTime": {
     "end_time": "2020-02-23T13:27:31.011093Z",
     "start_time": "2020-02-23T13:27:31.004091Z"
    }
   },
   "outputs": [
    {
     "data": {
      "text/plain": [
       "torch.Size([10, 10])"
      ]
     },
     "execution_count": 71,
     "metadata": {},
     "output_type": "execute_result"
    }
   ],
   "source": [
    "# asgurar que las dimensiones encajan\n",
    "\n",
    "input = torch.randn((10, 784))\n",
    "output = model(input)\n",
    "output.shape # deberia ser [10, 10], (batch size, número de clases)"
   ]
  },
  {
   "cell_type": "code",
   "execution_count": 72,
   "metadata": {
    "ExecuteTime": {
     "end_time": "2020-02-23T13:27:32.703089Z",
     "start_time": "2020-02-23T13:27:31.151090Z"
    }
   },
   "outputs": [
    {
     "data": {
      "text/plain": [
       "0.0558"
      ]
     },
     "execution_count": 72,
     "metadata": {},
     "output_type": "execute_result"
    }
   ],
   "source": [
    "# baseline, como se comporta la red antes de entrenar\n",
    "\n",
    "acc = 0\n",
    "for X, y in zip(X_test, y_test):\n",
    "    X, y = torch.from_numpy(X).float(), torch.tensor([y])\n",
    "    pred = model(X.unsqueeze(0))\n",
    "    pred = torch.argmax(pred, axis=1).item()\n",
    "    acc += pred == y.item()\n",
    "acc = acc / len(X_test)\n",
    "acc"
   ]
  },
  {
   "cell_type": "code",
   "execution_count": 73,
   "metadata": {
    "ExecuteTime": {
     "end_time": "2020-02-23T13:29:47.748913Z",
     "start_time": "2020-02-23T13:27:32.705090Z"
    }
   },
   "outputs": [
    {
     "name": "stdout",
     "output_type": "stream",
     "text": [
      "Epoch 1/3 Loss 0.56199\n",
      "Epoch 2/3 Loss 0.36497\n",
      "Epoch 3/3 Loss 0.33584\n"
     ]
    }
   ],
   "source": [
    "import numpy as np\n",
    "\n",
    "optimizer = torch.optim.SGD(model.parameters(), lr=0.001)\n",
    "criterion = nn.CrossEntropyLoss()\n",
    "\n",
    "epochs = 3\n",
    "for e in range(1,epochs+1):\n",
    "    losses = []\n",
    "    for X, y in zip(X_train, y_train):\n",
    "        X, y = torch.from_numpy(X).float(), torch.tensor([y]).long()\n",
    "        pred = model(X.unsqueeze(0))\n",
    "        optimizer.zero_grad()\n",
    "        loss = criterion(pred, y)\n",
    "        loss.backward()\n",
    "        optimizer.step()\n",
    "        losses.append(loss.item())\n",
    "    print(f'Epoch {e}/{epochs} Loss {np.mean(losses):.5f}')"
   ]
  },
  {
   "cell_type": "code",
   "execution_count": 74,
   "metadata": {
    "ExecuteTime": {
     "end_time": "2020-02-23T13:30:00.350317Z",
     "start_time": "2020-02-23T13:29:58.864264Z"
    }
   },
   "outputs": [
    {
     "data": {
      "text/plain": [
       "0.8802"
      ]
     },
     "execution_count": 74,
     "metadata": {},
     "output_type": "execute_result"
    }
   ],
   "source": [
    "acc = 0\n",
    "for X, y in zip(X_test, y_test):\n",
    "    X, y = torch.from_numpy(X).float(), torch.tensor([y])\n",
    "    pred = model(X.unsqueeze(0))\n",
    "    pred = torch.argmax(pred, axis=1).item()\n",
    "    acc += pred == y.item()\n",
    "acc = acc / len(X_test)\n",
    "acc"
   ]
  }
 ],
 "metadata": {
  "kernelspec": {
   "display_name": "Python 3",
   "language": "python",
   "name": "python3"
  },
  "language_info": {
   "codemirror_mode": {
    "name": "ipython",
    "version": 3
   },
   "file_extension": ".py",
   "mimetype": "text/x-python",
   "name": "python",
   "nbconvert_exporter": "python",
   "pygments_lexer": "ipython3",
   "version": "3.7.4"
  },
  "toc": {
   "base_numbering": 1,
   "nav_menu": {},
   "number_sections": true,
   "sideBar": true,
   "skip_h1_title": false,
   "title_cell": "Table of Contents",
   "title_sidebar": "Contents",
   "toc_cell": false,
   "toc_position": {},
   "toc_section_display": true,
   "toc_window_display": false
  }
 },
 "nbformat": 4,
 "nbformat_minor": 4
}
