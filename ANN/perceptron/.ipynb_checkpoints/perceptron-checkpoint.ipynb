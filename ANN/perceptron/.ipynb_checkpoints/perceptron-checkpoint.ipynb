{
 "cells": [
  {
   "cell_type": "markdown",
   "metadata": {},
   "source": [
    "## My first neural network - Single layer Perceptron"
   ]
  },
  {
   "cell_type": "code",
   "execution_count": 51,
   "metadata": {
    "collapsed": true
   },
   "outputs": [],
   "source": [
    "import numpy as np \n",
    "from perceptron import Perceptron\n",
    "from plot import plot"
   ]
  },
  {
   "cell_type": "markdown",
   "metadata": {},
   "source": [
    "Let's try a two-dimensional, two-classes case."
   ]
  },
  {
   "cell_type": "code",
   "execution_count": 52,
   "metadata": {},
   "outputs": [
    {
     "name": "stdout",
     "output_type": "stream",
     "text": [
      "w =  [[-0.71 -0.2 ]\n",
      " [ 0.71  0.2 ]]\n",
      "w0 =  [ 0.8 -0.8]\n",
      "it =  40\n"
     ]
    }
   ],
   "source": [
    "# train data\n",
    "M, D, C = 6, 2, 2\n",
    "data = np.zeros((M,D+1))  # D + label\n",
    "# last element is the label\n",
    "data[0] = [0.9, 0.1, 0]\n",
    "data[1] = [1.9, 0.8, 1]\n",
    "data[2] = [2, 0.9, 1]\n",
    "data[3] = [1 ,0.2, 0]\n",
    "data[4] = [1.2, 0.1, 1]\n",
    "data[5] = [1.6, 0.6, 1]\n",
    "# train perceptron\n",
    "nn = Perceptron(D,C)     \n",
    "nn.train(data)   "
   ]
  },
  {
   "cell_type": "code",
   "execution_count": 53,
   "metadata": {},
   "outputs": [
    {
     "name": "stdout",
     "output_type": "stream",
     "text": [
      "testData is of class  1\n"
     ]
    },
    {
     "data": {
      "image/png": "[encoded data removed]",
      "text/plain": [
       "<matplotlib.figure.Figure at 0x247d55f2128>"
      ]
     },
     "metadata": {},
     "output_type": "display_data"
    }
   ],
   "source": [
    "# test perceptron\n",
    "testData = np.asarray([1.4, 0.3])\n",
    "print(\"testData is of class \", nn.evaluate(testData))\n",
    "plot(data,'test',testData,D,C,nn.w,nn.w0)"
   ]
  },
  {
   "cell_type": "code",
   "execution_count": 54,
   "metadata": {},
   "outputs": [
    {
     "name": "stdout",
     "output_type": "stream",
     "text": [
      "testData is of class  0\n"
     ]
    },
    {
     "data": {
      "image/png": "[encoded data removed]",
      "text/plain": [
       "<matplotlib.figure.Figure at 0x247d5598438>"
      ]
     },
     "metadata": {},
     "output_type": "display_data"
    }
   ],
   "source": [
    "# test perceptron\n",
    "testData = np.asarray([1., -0.5])\n",
    "print(\"testData is of class \", nn.evaluate(testData))\n",
    "plot(data,'test',testData,D,C,nn.w,nn.w0)"
   ]
  },
  {
   "cell_type": "markdown",
   "metadata": {},
   "source": [
    "Now, with more classes:"
   ]
  },
  {
   "cell_type": "code",
   "execution_count": null,
   "metadata": {
    "collapsed": true
   },
   "outputs": [],
   "source": [
    "# train data\n",
    "M, D, C = 6, 2, 2\n",
    "data = np.zeros((M,D+1))  # D + label\n",
    "data[0] = [0.9, 0.1, 0]\n",
    "data[1] = [1.9, 0.8, 2]\n",
    "data[2] = [2, 0.9, 2]\n",
    "data[3] = [1 ,0.2, 0]\n",
    "data[4] = [1.2, 0.1, 1]\n",
    "data[5] = [1.6, 0.6, 1]"
   ]
  }
 ],
 "metadata": {
  "kernelspec": {
   "display_name": "Python 3",
   "language": "python",
   "name": "python3"
  },
  "language_info": {
   "codemirror_mode": {
    "name": "ipython",
    "version": 3
   },
   "file_extension": ".py",
   "mimetype": "text/x-python",
   "name": "python",
   "nbconvert_exporter": "python",
   "pygments_lexer": "ipython3",
   "version": "3.6.2"
  }
 },
 "nbformat": 4,
 "nbformat_minor": 2
}
