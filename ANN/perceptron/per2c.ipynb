{
 "cells": [
  {
   "cell_type": "markdown",
   "metadata": {},
   "source": [
    "## Perceptron update - multi-dimensional, 2 classes\n",
    "\n",
    "An upgrade of my first neural network, a single-layer 2 classes perceptron classifier with simple multi-dimensional custom data just to evaluate the algorithm."
   ]
  },
  {
   "cell_type": "code",
   "execution_count": 19,
   "metadata": {
    "collapsed": true
   },
   "outputs": [],
   "source": [
    "import numpy as np\n",
    "from p2c import Perceptron2c as Perceptron\n",
    "import matplotlib.pyplot as plt "
   ]
  },
  {
   "cell_type": "markdown",
   "metadata": {},
   "source": [
    "A simple set of multi-dimensional labeled training data is used in this example. We have two classes, +1 and -1."
   ]
  },
  {
   "cell_type": "code",
   "execution_count": 20,
   "metadata": {},
   "outputs": [],
   "source": [
    "# train data\n",
    "M, D = 6, 5\n",
    "data = np.zeros((M,D+1))  # D + label\n",
    "labels = np.zeros(M)\n",
    "# last element is the label\n",
    "data[0] = [0.9, 0.1, 0, 0.5, 0, -1]\n",
    "data[1] = [1.9, 0.8, 0.9, 0., 0, 1]\n",
    "data[2] = [2, 0.9, 0.8, 0.1, 0, 1]\n",
    "data[3] = [1 ,0.2, 0.1, 0.6, 1, -1]\n",
    "data[4] = [1.2, 0.1, 0.2, 0.7, 1, -1]\n",
    "data[5] = [1.6, 0.6, 0.6, 0.2, 1, 1]"
   ]
  },
  {
   "cell_type": "markdown",
   "metadata": {},
   "source": [
    "Now, we define our Perceptron and train it with the above defined data. We have to find a hyperplane that separates the points that belong to the two different classes. If this cannot be done, a hyperplane that minimizes the errors on training data classification will be found when the algorithm hit the maximum number of iterations (since it will not converge)."
   ]
  },
  {
   "cell_type": "code",
   "execution_count": 21,
   "metadata": {},
   "outputs": [
    {
     "name": "stdout",
     "output_type": "stream",
     "text": [
      "w =  [ 0.18  0.32  0.3  -0.4  -0.2 ]\n",
      "w0 =  -0.2\n",
      "it =  6\n"
     ]
    }
   ],
   "source": [
    "# train perceptron\n",
    "nn = Perceptron(D)     \n",
    "nn.train(data)"
   ]
  },
  {
   "cell_type": "markdown",
   "metadata": {
    "collapsed": true
   },
   "source": [
    "Now we can test a point to evaluate the accuracy of the classifier."
   ]
  },
  {
   "cell_type": "code",
   "execution_count": 22,
   "metadata": {},
   "outputs": [
    {
     "name": "stdout",
     "output_type": "stream",
     "text": [
      "testData is of class  -1\n"
     ]
    }
   ],
   "source": [
    "# test perceptron\n",
    "testData = np.asarray([1.2, 0.3, 0.2, 0., 1])\n",
    "print(\"testData is of class \", nn.evaluate(testData))"
   ]
  },
  {
   "cell_type": "markdown",
   "metadata": {},
   "source": [
    "This is the Perceptron class:"
   ]
  },
  {
   "cell_type": "code",
   "execution_count": 23,
   "metadata": {
    "collapsed": true
   },
   "outputs": [],
   "source": [
    "import numpy as np \n",
    "import random \n",
    "\n",
    "class Perceptron2c:\n",
    "    # init preceptron: D = number of dimensions\n",
    "    def __init__(self,D,a = 0.1,b = 0.1,itMax = 100):\n",
    "        # parameters\n",
    "        self.a = a\n",
    "        self.b = b\n",
    "        self.itMax = itMax\n",
    "        # init weights\n",
    "        self.D = D\n",
    "        self.w = np.zeros(D)    \n",
    "        self.w0 = 0.\n",
    "    # train perceptron\n",
    "    def train(self,data):\n",
    "        it = 0\n",
    "        # extract labels\n",
    "        self.c = data[:,self.D]\n",
    "        x = data[:,0:self.D]\n",
    "        # random acces to data\n",
    "        arr = list(range(len(x)))\n",
    "        random.shuffle(arr)        \n",
    "        while True:\n",
    "            error = 0.\n",
    "            it += 1\n",
    "            for i in arr:\n",
    "                g = self.c[i]*(np.dot(self.w,x[i]) + self.w0)\n",
    "                if g < self.b:\n",
    "                    self.w += self.a*self.c[i]*x[i]\n",
    "                    self.w0 += self.a*self.c[i]\n",
    "                    error += 1\n",
    "            if error == 0 or it >= self.itMax:\n",
    "                break;\n",
    "        print(\"w = \",self.w)\n",
    "        print(\"w0 = \",self.w0)\n",
    "        print(\"it = \",it)\n",
    "        if it == self.itMax:            \n",
    "            print(\"Not converged\")\n",
    "    # evaluate\n",
    "    def evaluate(self,test):\n",
    "        g = (np.dot(self.w,test) + self.w0)\n",
    "        if g > 0:\n",
    "            return 1\n",
    "        else:\n",
    "            return -1    "
   ]
  },
  {
   "cell_type": "markdown",
   "metadata": {},
   "source": [
    "## Propsed tasks\n",
    "\n",
    "- Try with a train data set that cannot be divided with a plane, for example set the second point to class 1. The algorithm will not converge without training errors (this is why we need a maxium number of iterations stop criteria), but the perceptron will be able to classify nevertheless.\n",
    "- The optimal parameters of the perceptron (a, b) will depend on the data and must be adjusted (it will affect convergence)."
   ]
  },
  {
   "cell_type": "markdown",
   "metadata": {
    "collapsed": true
   },
   "source": [
    "\n",
    "## Author\n",
    "\n",
    "Juan Sensio - juansensio03@gmail.com"
   ]
  }
 ],
 "metadata": {
  "kernelspec": {
   "display_name": "Python 3",
   "language": "python",
   "name": "python3"
  },
  "language_info": {
   "codemirror_mode": {
    "name": "ipython",
    "version": 3
   },
   "file_extension": ".py",
   "mimetype": "text/x-python",
   "name": "python",
   "nbconvert_exporter": "python",
   "pygments_lexer": "ipython3",
   "version": "3.6.2"
  }
 },
 "nbformat": 4,
 "nbformat_minor": 2
}
