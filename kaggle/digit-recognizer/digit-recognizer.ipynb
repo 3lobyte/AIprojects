{
 "cells": [
  {
   "cell_type": "markdown",
   "metadata": {},
   "source": [
    "# Digit-recognizer\n",
    "\n"
   ]
  },
  {
   "cell_type": "code",
   "execution_count": 9,
   "metadata": {},
   "outputs": [
    {
     "name": "stdout",
     "output_type": "stream",
     "text": [
      "Downloading digit-recognizer.zip to /data\n",
      "100%|██████████████████████████████████████| 15.3M/15.3M [00:01<00:00, 9.65MB/s]\n",
      "100%|██████████████████████████████████████| 15.3M/15.3M [00:01<00:00, 9.77MB/s]\n",
      "Archive:  /data/digit-recognizer.zip\n",
      "  inflating: /data/digit-recognizer/sample_submission.csv  \n",
      "  inflating: /data/digit-recognizer/test.csv  \n",
      "  inflating: /data/digit-recognizer/train.csv  \n"
     ]
    }
   ],
   "source": [
    "!kaggle competitions download -c digit-recognizer -p /data\n",
    "!unzip /data/digit-recognizer -d /data/digit-recognizer"
   ]
  },
  {
   "cell_type": "code",
   "execution_count": null,
   "metadata": {},
   "outputs": [],
   "source": []
  }
 ],
 "metadata": {
  "kernelspec": {
   "display_name": "Python 3",
   "language": "python",
   "name": "python3"
  },
  "language_info": {
   "codemirror_mode": {
    "name": "ipython",
    "version": 3
   },
   "file_extension": ".py",
   "mimetype": "text/x-python",
   "name": "python",
   "nbconvert_exporter": "python",
   "pygments_lexer": "ipython3",
   "version": "3.7.4"
  }
 },
 "nbformat": 4,
 "nbformat_minor": 2
}
