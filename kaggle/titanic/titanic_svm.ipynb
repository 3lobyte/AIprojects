{
 "cells": [
  {
   "cell_type": "markdown",
   "metadata": {},
   "source": [
    "# Titanic competition\n",
    "\n",
    "https://www.kaggle.com/c/titanic/"
   ]
  },
  {
   "cell_type": "code",
   "execution_count": 1,
   "metadata": {
    "ExecuteTime": {
     "end_time": "2020-01-22T11:55:43.886905Z",
     "start_time": "2020-01-22T11:55:42.736484Z"
    }
   },
   "outputs": [
    {
     "name": "stdout",
     "output_type": "stream",
     "text": [
      "titanic.zip: Skipping, found more recently modified local copy (use --force to force download)\r\n"
     ]
    }
   ],
   "source": [
    "# download dataset\n",
    "\n",
    "!kaggle competitions download -c titanic -p /data\n",
    "\n",
    "# extract dataset\n",
    "\n",
    "!unzip /data/titanic -d /data/titanic"
   ]
  },
  {
   "cell_type": "code",
   "execution_count": 2,
   "metadata": {
    "ExecuteTime": {
     "end_time": "2020-01-22T11:55:43.998617Z",
     "start_time": "2020-01-22T11:55:43.888504Z"
    }
   },
   "outputs": [
    {
     "name": "stdout",
     "output_type": "stream",
     "text": [
      "gender_submission.csv  submission.csv  test.csv  train.csv\r\n"
     ]
    }
   ],
   "source": [
    "!ls /data/titanic"
   ]
  },
  {
   "cell_type": "markdown",
   "metadata": {},
   "source": [
    "## Data Exploration"
   ]
  },
  {
   "cell_type": "markdown",
   "metadata": {},
   "source": [
    "The training set should be used to build your machine learning models. For the training set, we provide the outcome (also known as the “ground truth”) for each passenger. Your model will be based on “features” like passengers’ gender and class. You can also use feature engineering to create new features.\n",
    "\n",
    "The test set should be used to see how well your model performs on unseen data. For the test set, we do not provide the ground truth for each passenger. It is your job to predict these outcomes. For each passenger in the test set, use the model you trained to predict whether or not they survived the sinking of the Titanic.\n",
    "\n",
    "We also include gender_submission.csv, a set of predictions that assume all and only female passengers survive, as an example of what a submission file should look like."
   ]
  },
  {
   "cell_type": "code",
   "execution_count": 3,
   "metadata": {
    "ExecuteTime": {
     "end_time": "2020-01-22T11:55:44.268822Z",
     "start_time": "2020-01-22T11:55:44.001279Z"
    }
   },
   "outputs": [
    {
     "data": {
      "text/html": [
       "<div>\n",
       "<style scoped>\n",
       "    .dataframe tbody tr th:only-of-type {\n",
       "        vertical-align: middle;\n",
       "    }\n",
       "\n",
       "    .dataframe tbody tr th {\n",
       "        vertical-align: top;\n",
       "    }\n",
       "\n",
       "    .dataframe thead th {\n",
       "        text-align: right;\n",
       "    }\n",
       "</style>\n",
       "<table border=\"1\" class=\"dataframe\">\n",
       "  <thead>\n",
       "    <tr style=\"text-align: right;\">\n",
       "      <th></th>\n",
       "      <th>PassengerId</th>\n",
       "      <th>Survived</th>\n",
       "      <th>Pclass</th>\n",
       "      <th>Name</th>\n",
       "      <th>Sex</th>\n",
       "      <th>Age</th>\n",
       "      <th>SibSp</th>\n",
       "      <th>Parch</th>\n",
       "      <th>Ticket</th>\n",
       "      <th>Fare</th>\n",
       "      <th>Cabin</th>\n",
       "      <th>Embarked</th>\n",
       "    </tr>\n",
       "  </thead>\n",
       "  <tbody>\n",
       "    <tr>\n",
       "      <th>0</th>\n",
       "      <td>1</td>\n",
       "      <td>0</td>\n",
       "      <td>3</td>\n",
       "      <td>Braund, Mr. Owen Harris</td>\n",
       "      <td>male</td>\n",
       "      <td>22.0</td>\n",
       "      <td>1</td>\n",
       "      <td>0</td>\n",
       "      <td>A/5 21171</td>\n",
       "      <td>7.2500</td>\n",
       "      <td>NaN</td>\n",
       "      <td>S</td>\n",
       "    </tr>\n",
       "    <tr>\n",
       "      <th>1</th>\n",
       "      <td>2</td>\n",
       "      <td>1</td>\n",
       "      <td>1</td>\n",
       "      <td>Cumings, Mrs. John Bradley (Florence Briggs Th...</td>\n",
       "      <td>female</td>\n",
       "      <td>38.0</td>\n",
       "      <td>1</td>\n",
       "      <td>0</td>\n",
       "      <td>PC 17599</td>\n",
       "      <td>71.2833</td>\n",
       "      <td>C85</td>\n",
       "      <td>C</td>\n",
       "    </tr>\n",
       "    <tr>\n",
       "      <th>2</th>\n",
       "      <td>3</td>\n",
       "      <td>1</td>\n",
       "      <td>3</td>\n",
       "      <td>Heikkinen, Miss. Laina</td>\n",
       "      <td>female</td>\n",
       "      <td>26.0</td>\n",
       "      <td>0</td>\n",
       "      <td>0</td>\n",
       "      <td>STON/O2. 3101282</td>\n",
       "      <td>7.9250</td>\n",
       "      <td>NaN</td>\n",
       "      <td>S</td>\n",
       "    </tr>\n",
       "    <tr>\n",
       "      <th>3</th>\n",
       "      <td>4</td>\n",
       "      <td>1</td>\n",
       "      <td>1</td>\n",
       "      <td>Futrelle, Mrs. Jacques Heath (Lily May Peel)</td>\n",
       "      <td>female</td>\n",
       "      <td>35.0</td>\n",
       "      <td>1</td>\n",
       "      <td>0</td>\n",
       "      <td>113803</td>\n",
       "      <td>53.1000</td>\n",
       "      <td>C123</td>\n",
       "      <td>S</td>\n",
       "    </tr>\n",
       "    <tr>\n",
       "      <th>4</th>\n",
       "      <td>5</td>\n",
       "      <td>0</td>\n",
       "      <td>3</td>\n",
       "      <td>Allen, Mr. William Henry</td>\n",
       "      <td>male</td>\n",
       "      <td>35.0</td>\n",
       "      <td>0</td>\n",
       "      <td>0</td>\n",
       "      <td>373450</td>\n",
       "      <td>8.0500</td>\n",
       "      <td>NaN</td>\n",
       "      <td>S</td>\n",
       "    </tr>\n",
       "    <tr>\n",
       "      <th>...</th>\n",
       "      <td>...</td>\n",
       "      <td>...</td>\n",
       "      <td>...</td>\n",
       "      <td>...</td>\n",
       "      <td>...</td>\n",
       "      <td>...</td>\n",
       "      <td>...</td>\n",
       "      <td>...</td>\n",
       "      <td>...</td>\n",
       "      <td>...</td>\n",
       "      <td>...</td>\n",
       "      <td>...</td>\n",
       "    </tr>\n",
       "    <tr>\n",
       "      <th>886</th>\n",
       "      <td>887</td>\n",
       "      <td>0</td>\n",
       "      <td>2</td>\n",
       "      <td>Montvila, Rev. Juozas</td>\n",
       "      <td>male</td>\n",
       "      <td>27.0</td>\n",
       "      <td>0</td>\n",
       "      <td>0</td>\n",
       "      <td>211536</td>\n",
       "      <td>13.0000</td>\n",
       "      <td>NaN</td>\n",
       "      <td>S</td>\n",
       "    </tr>\n",
       "    <tr>\n",
       "      <th>887</th>\n",
       "      <td>888</td>\n",
       "      <td>1</td>\n",
       "      <td>1</td>\n",
       "      <td>Graham, Miss. Margaret Edith</td>\n",
       "      <td>female</td>\n",
       "      <td>19.0</td>\n",
       "      <td>0</td>\n",
       "      <td>0</td>\n",
       "      <td>112053</td>\n",
       "      <td>30.0000</td>\n",
       "      <td>B42</td>\n",
       "      <td>S</td>\n",
       "    </tr>\n",
       "    <tr>\n",
       "      <th>888</th>\n",
       "      <td>889</td>\n",
       "      <td>0</td>\n",
       "      <td>3</td>\n",
       "      <td>Johnston, Miss. Catherine Helen \"Carrie\"</td>\n",
       "      <td>female</td>\n",
       "      <td>NaN</td>\n",
       "      <td>1</td>\n",
       "      <td>2</td>\n",
       "      <td>W./C. 6607</td>\n",
       "      <td>23.4500</td>\n",
       "      <td>NaN</td>\n",
       "      <td>S</td>\n",
       "    </tr>\n",
       "    <tr>\n",
       "      <th>889</th>\n",
       "      <td>890</td>\n",
       "      <td>1</td>\n",
       "      <td>1</td>\n",
       "      <td>Behr, Mr. Karl Howell</td>\n",
       "      <td>male</td>\n",
       "      <td>26.0</td>\n",
       "      <td>0</td>\n",
       "      <td>0</td>\n",
       "      <td>111369</td>\n",
       "      <td>30.0000</td>\n",
       "      <td>C148</td>\n",
       "      <td>C</td>\n",
       "    </tr>\n",
       "    <tr>\n",
       "      <th>890</th>\n",
       "      <td>891</td>\n",
       "      <td>0</td>\n",
       "      <td>3</td>\n",
       "      <td>Dooley, Mr. Patrick</td>\n",
       "      <td>male</td>\n",
       "      <td>32.0</td>\n",
       "      <td>0</td>\n",
       "      <td>0</td>\n",
       "      <td>370376</td>\n",
       "      <td>7.7500</td>\n",
       "      <td>NaN</td>\n",
       "      <td>Q</td>\n",
       "    </tr>\n",
       "  </tbody>\n",
       "</table>\n",
       "<p>891 rows × 12 columns</p>\n",
       "</div>"
      ],
      "text/plain": [
       "     PassengerId  Survived  Pclass  \\\n",
       "0              1         0       3   \n",
       "1              2         1       1   \n",
       "2              3         1       3   \n",
       "3              4         1       1   \n",
       "4              5         0       3   \n",
       "..           ...       ...     ...   \n",
       "886          887         0       2   \n",
       "887          888         1       1   \n",
       "888          889         0       3   \n",
       "889          890         1       1   \n",
       "890          891         0       3   \n",
       "\n",
       "                                                  Name     Sex   Age  SibSp  \\\n",
       "0                              Braund, Mr. Owen Harris    male  22.0      1   \n",
       "1    Cumings, Mrs. John Bradley (Florence Briggs Th...  female  38.0      1   \n",
       "2                               Heikkinen, Miss. Laina  female  26.0      0   \n",
       "3         Futrelle, Mrs. Jacques Heath (Lily May Peel)  female  35.0      1   \n",
       "4                             Allen, Mr. William Henry    male  35.0      0   \n",
       "..                                                 ...     ...   ...    ...   \n",
       "886                              Montvila, Rev. Juozas    male  27.0      0   \n",
       "887                       Graham, Miss. Margaret Edith  female  19.0      0   \n",
       "888           Johnston, Miss. Catherine Helen \"Carrie\"  female   NaN      1   \n",
       "889                              Behr, Mr. Karl Howell    male  26.0      0   \n",
       "890                                Dooley, Mr. Patrick    male  32.0      0   \n",
       "\n",
       "     Parch            Ticket     Fare Cabin Embarked  \n",
       "0        0         A/5 21171   7.2500   NaN        S  \n",
       "1        0          PC 17599  71.2833   C85        C  \n",
       "2        0  STON/O2. 3101282   7.9250   NaN        S  \n",
       "3        0            113803  53.1000  C123        S  \n",
       "4        0            373450   8.0500   NaN        S  \n",
       "..     ...               ...      ...   ...      ...  \n",
       "886      0            211536  13.0000   NaN        S  \n",
       "887      0            112053  30.0000   B42        S  \n",
       "888      2        W./C. 6607  23.4500   NaN        S  \n",
       "889      0            111369  30.0000  C148        C  \n",
       "890      0            370376   7.7500   NaN        Q  \n",
       "\n",
       "[891 rows x 12 columns]"
      ]
     },
     "execution_count": 3,
     "metadata": {},
     "output_type": "execute_result"
    }
   ],
   "source": [
    "# load data\n",
    "\n",
    "import pandas as pd\n",
    "path = '/data/titanic'\n",
    "\n",
    "train_data = pd.read_csv(f\"{path}/train.csv\")\n",
    "test_data = pd.read_csv(f\"{path}/test.csv\")\n",
    "\n",
    "train_data"
   ]
  },
  {
   "cell_type": "code",
   "execution_count": 4,
   "metadata": {
    "ExecuteTime": {
     "end_time": "2020-01-22T11:55:44.281182Z",
     "start_time": "2020-01-22T11:55:44.269814Z"
    }
   },
   "outputs": [
    {
     "data": {
      "text/html": [
       "<div>\n",
       "<style scoped>\n",
       "    .dataframe tbody tr th:only-of-type {\n",
       "        vertical-align: middle;\n",
       "    }\n",
       "\n",
       "    .dataframe tbody tr th {\n",
       "        vertical-align: top;\n",
       "    }\n",
       "\n",
       "    .dataframe thead th {\n",
       "        text-align: right;\n",
       "    }\n",
       "</style>\n",
       "<table border=\"1\" class=\"dataframe\">\n",
       "  <thead>\n",
       "    <tr style=\"text-align: right;\">\n",
       "      <th></th>\n",
       "      <th>PassengerId</th>\n",
       "      <th>Pclass</th>\n",
       "      <th>Name</th>\n",
       "      <th>Sex</th>\n",
       "      <th>Age</th>\n",
       "      <th>SibSp</th>\n",
       "      <th>Parch</th>\n",
       "      <th>Ticket</th>\n",
       "      <th>Fare</th>\n",
       "      <th>Cabin</th>\n",
       "      <th>Embarked</th>\n",
       "    </tr>\n",
       "  </thead>\n",
       "  <tbody>\n",
       "    <tr>\n",
       "      <th>0</th>\n",
       "      <td>892</td>\n",
       "      <td>3</td>\n",
       "      <td>Kelly, Mr. James</td>\n",
       "      <td>male</td>\n",
       "      <td>34.5</td>\n",
       "      <td>0</td>\n",
       "      <td>0</td>\n",
       "      <td>330911</td>\n",
       "      <td>7.8292</td>\n",
       "      <td>NaN</td>\n",
       "      <td>Q</td>\n",
       "    </tr>\n",
       "    <tr>\n",
       "      <th>1</th>\n",
       "      <td>893</td>\n",
       "      <td>3</td>\n",
       "      <td>Wilkes, Mrs. James (Ellen Needs)</td>\n",
       "      <td>female</td>\n",
       "      <td>47.0</td>\n",
       "      <td>1</td>\n",
       "      <td>0</td>\n",
       "      <td>363272</td>\n",
       "      <td>7.0000</td>\n",
       "      <td>NaN</td>\n",
       "      <td>S</td>\n",
       "    </tr>\n",
       "    <tr>\n",
       "      <th>2</th>\n",
       "      <td>894</td>\n",
       "      <td>2</td>\n",
       "      <td>Myles, Mr. Thomas Francis</td>\n",
       "      <td>male</td>\n",
       "      <td>62.0</td>\n",
       "      <td>0</td>\n",
       "      <td>0</td>\n",
       "      <td>240276</td>\n",
       "      <td>9.6875</td>\n",
       "      <td>NaN</td>\n",
       "      <td>Q</td>\n",
       "    </tr>\n",
       "    <tr>\n",
       "      <th>3</th>\n",
       "      <td>895</td>\n",
       "      <td>3</td>\n",
       "      <td>Wirz, Mr. Albert</td>\n",
       "      <td>male</td>\n",
       "      <td>27.0</td>\n",
       "      <td>0</td>\n",
       "      <td>0</td>\n",
       "      <td>315154</td>\n",
       "      <td>8.6625</td>\n",
       "      <td>NaN</td>\n",
       "      <td>S</td>\n",
       "    </tr>\n",
       "    <tr>\n",
       "      <th>4</th>\n",
       "      <td>896</td>\n",
       "      <td>3</td>\n",
       "      <td>Hirvonen, Mrs. Alexander (Helga E Lindqvist)</td>\n",
       "      <td>female</td>\n",
       "      <td>22.0</td>\n",
       "      <td>1</td>\n",
       "      <td>1</td>\n",
       "      <td>3101298</td>\n",
       "      <td>12.2875</td>\n",
       "      <td>NaN</td>\n",
       "      <td>S</td>\n",
       "    </tr>\n",
       "    <tr>\n",
       "      <th>...</th>\n",
       "      <td>...</td>\n",
       "      <td>...</td>\n",
       "      <td>...</td>\n",
       "      <td>...</td>\n",
       "      <td>...</td>\n",
       "      <td>...</td>\n",
       "      <td>...</td>\n",
       "      <td>...</td>\n",
       "      <td>...</td>\n",
       "      <td>...</td>\n",
       "      <td>...</td>\n",
       "    </tr>\n",
       "    <tr>\n",
       "      <th>413</th>\n",
       "      <td>1305</td>\n",
       "      <td>3</td>\n",
       "      <td>Spector, Mr. Woolf</td>\n",
       "      <td>male</td>\n",
       "      <td>NaN</td>\n",
       "      <td>0</td>\n",
       "      <td>0</td>\n",
       "      <td>A.5. 3236</td>\n",
       "      <td>8.0500</td>\n",
       "      <td>NaN</td>\n",
       "      <td>S</td>\n",
       "    </tr>\n",
       "    <tr>\n",
       "      <th>414</th>\n",
       "      <td>1306</td>\n",
       "      <td>1</td>\n",
       "      <td>Oliva y Ocana, Dona. Fermina</td>\n",
       "      <td>female</td>\n",
       "      <td>39.0</td>\n",
       "      <td>0</td>\n",
       "      <td>0</td>\n",
       "      <td>PC 17758</td>\n",
       "      <td>108.9000</td>\n",
       "      <td>C105</td>\n",
       "      <td>C</td>\n",
       "    </tr>\n",
       "    <tr>\n",
       "      <th>415</th>\n",
       "      <td>1307</td>\n",
       "      <td>3</td>\n",
       "      <td>Saether, Mr. Simon Sivertsen</td>\n",
       "      <td>male</td>\n",
       "      <td>38.5</td>\n",
       "      <td>0</td>\n",
       "      <td>0</td>\n",
       "      <td>SOTON/O.Q. 3101262</td>\n",
       "      <td>7.2500</td>\n",
       "      <td>NaN</td>\n",
       "      <td>S</td>\n",
       "    </tr>\n",
       "    <tr>\n",
       "      <th>416</th>\n",
       "      <td>1308</td>\n",
       "      <td>3</td>\n",
       "      <td>Ware, Mr. Frederick</td>\n",
       "      <td>male</td>\n",
       "      <td>NaN</td>\n",
       "      <td>0</td>\n",
       "      <td>0</td>\n",
       "      <td>359309</td>\n",
       "      <td>8.0500</td>\n",
       "      <td>NaN</td>\n",
       "      <td>S</td>\n",
       "    </tr>\n",
       "    <tr>\n",
       "      <th>417</th>\n",
       "      <td>1309</td>\n",
       "      <td>3</td>\n",
       "      <td>Peter, Master. Michael J</td>\n",
       "      <td>male</td>\n",
       "      <td>NaN</td>\n",
       "      <td>1</td>\n",
       "      <td>1</td>\n",
       "      <td>2668</td>\n",
       "      <td>22.3583</td>\n",
       "      <td>NaN</td>\n",
       "      <td>C</td>\n",
       "    </tr>\n",
       "  </tbody>\n",
       "</table>\n",
       "<p>418 rows × 11 columns</p>\n",
       "</div>"
      ],
      "text/plain": [
       "     PassengerId  Pclass                                          Name  \\\n",
       "0            892       3                              Kelly, Mr. James   \n",
       "1            893       3              Wilkes, Mrs. James (Ellen Needs)   \n",
       "2            894       2                     Myles, Mr. Thomas Francis   \n",
       "3            895       3                              Wirz, Mr. Albert   \n",
       "4            896       3  Hirvonen, Mrs. Alexander (Helga E Lindqvist)   \n",
       "..           ...     ...                                           ...   \n",
       "413         1305       3                            Spector, Mr. Woolf   \n",
       "414         1306       1                  Oliva y Ocana, Dona. Fermina   \n",
       "415         1307       3                  Saether, Mr. Simon Sivertsen   \n",
       "416         1308       3                           Ware, Mr. Frederick   \n",
       "417         1309       3                      Peter, Master. Michael J   \n",
       "\n",
       "        Sex   Age  SibSp  Parch              Ticket      Fare Cabin Embarked  \n",
       "0      male  34.5      0      0              330911    7.8292   NaN        Q  \n",
       "1    female  47.0      1      0              363272    7.0000   NaN        S  \n",
       "2      male  62.0      0      0              240276    9.6875   NaN        Q  \n",
       "3      male  27.0      0      0              315154    8.6625   NaN        S  \n",
       "4    female  22.0      1      1             3101298   12.2875   NaN        S  \n",
       "..      ...   ...    ...    ...                 ...       ...   ...      ...  \n",
       "413    male   NaN      0      0           A.5. 3236    8.0500   NaN        S  \n",
       "414  female  39.0      0      0            PC 17758  108.9000  C105        C  \n",
       "415    male  38.5      0      0  SOTON/O.Q. 3101262    7.2500   NaN        S  \n",
       "416    male   NaN      0      0              359309    8.0500   NaN        S  \n",
       "417    male   NaN      1      1                2668   22.3583   NaN        C  \n",
       "\n",
       "[418 rows x 11 columns]"
      ]
     },
     "execution_count": 4,
     "metadata": {},
     "output_type": "execute_result"
    }
   ],
   "source": [
    "test_data"
   ]
  },
  {
   "cell_type": "code",
   "execution_count": 5,
   "metadata": {
    "ExecuteTime": {
     "end_time": "2020-01-22T11:55:44.292785Z",
     "start_time": "2020-01-22T11:55:44.282006Z"
    }
   },
   "outputs": [
    {
     "data": {
      "text/html": [
       "<div>\n",
       "<style scoped>\n",
       "    .dataframe tbody tr th:only-of-type {\n",
       "        vertical-align: middle;\n",
       "    }\n",
       "\n",
       "    .dataframe tbody tr th {\n",
       "        vertical-align: top;\n",
       "    }\n",
       "\n",
       "    .dataframe thead th {\n",
       "        text-align: right;\n",
       "    }\n",
       "</style>\n",
       "<table border=\"1\" class=\"dataframe\">\n",
       "  <thead>\n",
       "    <tr style=\"text-align: right;\">\n",
       "      <th></th>\n",
       "      <th>PassengerId</th>\n",
       "      <th>Survived</th>\n",
       "    </tr>\n",
       "  </thead>\n",
       "  <tbody>\n",
       "    <tr>\n",
       "      <th>0</th>\n",
       "      <td>892</td>\n",
       "      <td>0</td>\n",
       "    </tr>\n",
       "    <tr>\n",
       "      <th>1</th>\n",
       "      <td>893</td>\n",
       "      <td>1</td>\n",
       "    </tr>\n",
       "    <tr>\n",
       "      <th>2</th>\n",
       "      <td>894</td>\n",
       "      <td>0</td>\n",
       "    </tr>\n",
       "    <tr>\n",
       "      <th>3</th>\n",
       "      <td>895</td>\n",
       "      <td>0</td>\n",
       "    </tr>\n",
       "    <tr>\n",
       "      <th>4</th>\n",
       "      <td>896</td>\n",
       "      <td>1</td>\n",
       "    </tr>\n",
       "    <tr>\n",
       "      <th>...</th>\n",
       "      <td>...</td>\n",
       "      <td>...</td>\n",
       "    </tr>\n",
       "    <tr>\n",
       "      <th>413</th>\n",
       "      <td>1305</td>\n",
       "      <td>0</td>\n",
       "    </tr>\n",
       "    <tr>\n",
       "      <th>414</th>\n",
       "      <td>1306</td>\n",
       "      <td>1</td>\n",
       "    </tr>\n",
       "    <tr>\n",
       "      <th>415</th>\n",
       "      <td>1307</td>\n",
       "      <td>0</td>\n",
       "    </tr>\n",
       "    <tr>\n",
       "      <th>416</th>\n",
       "      <td>1308</td>\n",
       "      <td>0</td>\n",
       "    </tr>\n",
       "    <tr>\n",
       "      <th>417</th>\n",
       "      <td>1309</td>\n",
       "      <td>0</td>\n",
       "    </tr>\n",
       "  </tbody>\n",
       "</table>\n",
       "<p>418 rows × 2 columns</p>\n",
       "</div>"
      ],
      "text/plain": [
       "     PassengerId  Survived\n",
       "0            892         0\n",
       "1            893         1\n",
       "2            894         0\n",
       "3            895         0\n",
       "4            896         1\n",
       "..           ...       ...\n",
       "413         1305         0\n",
       "414         1306         1\n",
       "415         1307         0\n",
       "416         1308         0\n",
       "417         1309         0\n",
       "\n",
       "[418 rows x 2 columns]"
      ]
     },
     "execution_count": 5,
     "metadata": {},
     "output_type": "execute_result"
    }
   ],
   "source": [
    "example_submission = pd.read_csv(f\"{path}/gender_submission.csv\")\n",
    "example_submission"
   ]
  },
  {
   "cell_type": "code",
   "execution_count": 6,
   "metadata": {
    "ExecuteTime": {
     "end_time": "2020-01-22T11:55:44.301657Z",
     "start_time": "2020-01-22T11:55:44.294311Z"
    }
   },
   "outputs": [
    {
     "name": "stdout",
     "output_type": "stream",
     "text": [
      "<class 'pandas.core.frame.DataFrame'>\n",
      "RangeIndex: 891 entries, 0 to 890\n",
      "Data columns (total 12 columns):\n",
      "PassengerId    891 non-null int64\n",
      "Survived       891 non-null int64\n",
      "Pclass         891 non-null int64\n",
      "Name           891 non-null object\n",
      "Sex            891 non-null object\n",
      "Age            714 non-null float64\n",
      "SibSp          891 non-null int64\n",
      "Parch          891 non-null int64\n",
      "Ticket         891 non-null object\n",
      "Fare           891 non-null float64\n",
      "Cabin          204 non-null object\n",
      "Embarked       889 non-null object\n",
      "dtypes: float64(2), int64(5), object(5)\n",
      "memory usage: 83.7+ KB\n"
     ]
    }
   ],
   "source": [
    "# missing values\n",
    "\n",
    "train_data.info()"
   ]
  },
  {
   "cell_type": "markdown",
   "metadata": {},
   "source": [
    "Missing values en: age, cabin, embarked. "
   ]
  },
  {
   "cell_type": "code",
   "execution_count": 7,
   "metadata": {
    "ExecuteTime": {
     "end_time": "2020-01-22T11:55:44.321431Z",
     "start_time": "2020-01-22T11:55:44.302921Z"
    }
   },
   "outputs": [
    {
     "data": {
      "text/html": [
       "<div>\n",
       "<style scoped>\n",
       "    .dataframe tbody tr th:only-of-type {\n",
       "        vertical-align: middle;\n",
       "    }\n",
       "\n",
       "    .dataframe tbody tr th {\n",
       "        vertical-align: top;\n",
       "    }\n",
       "\n",
       "    .dataframe thead th {\n",
       "        text-align: right;\n",
       "    }\n",
       "</style>\n",
       "<table border=\"1\" class=\"dataframe\">\n",
       "  <thead>\n",
       "    <tr style=\"text-align: right;\">\n",
       "      <th></th>\n",
       "      <th>PassengerId</th>\n",
       "      <th>Survived</th>\n",
       "      <th>Pclass</th>\n",
       "      <th>Age</th>\n",
       "      <th>SibSp</th>\n",
       "      <th>Parch</th>\n",
       "      <th>Fare</th>\n",
       "    </tr>\n",
       "  </thead>\n",
       "  <tbody>\n",
       "    <tr>\n",
       "      <th>count</th>\n",
       "      <td>891.000000</td>\n",
       "      <td>891.000000</td>\n",
       "      <td>891.000000</td>\n",
       "      <td>714.000000</td>\n",
       "      <td>891.000000</td>\n",
       "      <td>891.000000</td>\n",
       "      <td>891.000000</td>\n",
       "    </tr>\n",
       "    <tr>\n",
       "      <th>mean</th>\n",
       "      <td>446.000000</td>\n",
       "      <td>0.383838</td>\n",
       "      <td>2.308642</td>\n",
       "      <td>29.699118</td>\n",
       "      <td>0.523008</td>\n",
       "      <td>0.381594</td>\n",
       "      <td>32.204208</td>\n",
       "    </tr>\n",
       "    <tr>\n",
       "      <th>std</th>\n",
       "      <td>257.353842</td>\n",
       "      <td>0.486592</td>\n",
       "      <td>0.836071</td>\n",
       "      <td>14.526497</td>\n",
       "      <td>1.102743</td>\n",
       "      <td>0.806057</td>\n",
       "      <td>49.693429</td>\n",
       "    </tr>\n",
       "    <tr>\n",
       "      <th>min</th>\n",
       "      <td>1.000000</td>\n",
       "      <td>0.000000</td>\n",
       "      <td>1.000000</td>\n",
       "      <td>0.420000</td>\n",
       "      <td>0.000000</td>\n",
       "      <td>0.000000</td>\n",
       "      <td>0.000000</td>\n",
       "    </tr>\n",
       "    <tr>\n",
       "      <th>25%</th>\n",
       "      <td>223.500000</td>\n",
       "      <td>0.000000</td>\n",
       "      <td>2.000000</td>\n",
       "      <td>20.125000</td>\n",
       "      <td>0.000000</td>\n",
       "      <td>0.000000</td>\n",
       "      <td>7.910400</td>\n",
       "    </tr>\n",
       "    <tr>\n",
       "      <th>50%</th>\n",
       "      <td>446.000000</td>\n",
       "      <td>0.000000</td>\n",
       "      <td>3.000000</td>\n",
       "      <td>28.000000</td>\n",
       "      <td>0.000000</td>\n",
       "      <td>0.000000</td>\n",
       "      <td>14.454200</td>\n",
       "    </tr>\n",
       "    <tr>\n",
       "      <th>75%</th>\n",
       "      <td>668.500000</td>\n",
       "      <td>1.000000</td>\n",
       "      <td>3.000000</td>\n",
       "      <td>38.000000</td>\n",
       "      <td>1.000000</td>\n",
       "      <td>0.000000</td>\n",
       "      <td>31.000000</td>\n",
       "    </tr>\n",
       "    <tr>\n",
       "      <th>max</th>\n",
       "      <td>891.000000</td>\n",
       "      <td>1.000000</td>\n",
       "      <td>3.000000</td>\n",
       "      <td>80.000000</td>\n",
       "      <td>8.000000</td>\n",
       "      <td>6.000000</td>\n",
       "      <td>512.329200</td>\n",
       "    </tr>\n",
       "  </tbody>\n",
       "</table>\n",
       "</div>"
      ],
      "text/plain": [
       "       PassengerId    Survived      Pclass         Age       SibSp  \\\n",
       "count   891.000000  891.000000  891.000000  714.000000  891.000000   \n",
       "mean    446.000000    0.383838    2.308642   29.699118    0.523008   \n",
       "std     257.353842    0.486592    0.836071   14.526497    1.102743   \n",
       "min       1.000000    0.000000    1.000000    0.420000    0.000000   \n",
       "25%     223.500000    0.000000    2.000000   20.125000    0.000000   \n",
       "50%     446.000000    0.000000    3.000000   28.000000    0.000000   \n",
       "75%     668.500000    1.000000    3.000000   38.000000    1.000000   \n",
       "max     891.000000    1.000000    3.000000   80.000000    8.000000   \n",
       "\n",
       "            Parch        Fare  \n",
       "count  891.000000  891.000000  \n",
       "mean     0.381594   32.204208  \n",
       "std      0.806057   49.693429  \n",
       "min      0.000000    0.000000  \n",
       "25%      0.000000    7.910400  \n",
       "50%      0.000000   14.454200  \n",
       "75%      0.000000   31.000000  \n",
       "max      6.000000  512.329200  "
      ]
     },
     "execution_count": 7,
     "metadata": {},
     "output_type": "execute_result"
    }
   ],
   "source": [
    "# numerical statistic\n",
    "\n",
    "train_data.describe()"
   ]
  },
  {
   "cell_type": "code",
   "execution_count": 8,
   "metadata": {
    "ExecuteTime": {
     "end_time": "2020-01-22T11:55:44.382336Z",
     "start_time": "2020-01-22T11:55:44.322743Z"
    }
   },
   "outputs": [
    {
     "data": {
      "text/plain": [
       "3    491\n",
       "1    216\n",
       "2    184\n",
       "Name: Pclass, dtype: int64"
      ]
     },
     "execution_count": 8,
     "metadata": {},
     "output_type": "execute_result"
    }
   ],
   "source": [
    "# categories\n",
    "\n",
    "import matplotlib.pyplot as plt\n",
    "\n",
    "def plot_hist(c):\n",
    "    train_data[c][train_data[\"Survived\"] == 0].hist()\n",
    "    train_data[c][train_data[\"Survived\"] == 1].hist(alpha=0.5)\n",
    "    plt.show()\n",
    "    \n",
    "train_data['Pclass'].value_counts()"
   ]
  },
  {
   "cell_type": "code",
   "execution_count": 9,
   "metadata": {
    "ExecuteTime": {
     "end_time": "2020-01-22T11:55:44.539145Z",
     "start_time": "2020-01-22T11:55:44.383452Z"
    }
   },
   "outputs": [
    {
     "data": {
      "image/png": "[encoded data removed]",
      "text/plain": [
       "<Figure size 432x288 with 1 Axes>"
      ]
     },
     "metadata": {
      "needs_background": "light"
     },
     "output_type": "display_data"
    }
   ],
   "source": [
    "plot_hist(\"Pclass\")"
   ]
  },
  {
   "cell_type": "code",
   "execution_count": 10,
   "metadata": {
    "ExecuteTime": {
     "end_time": "2020-01-22T11:55:44.655352Z",
     "start_time": "2020-01-22T11:55:44.540079Z"
    }
   },
   "outputs": [
    {
     "data": {
      "image/png": "[encoded data removed]",
      "text/plain": [
       "<Figure size 432x288 with 1 Axes>"
      ]
     },
     "metadata": {
      "needs_background": "light"
     },
     "output_type": "display_data"
    }
   ],
   "source": [
    "plot_hist(\"Age\")"
   ]
  },
  {
   "cell_type": "code",
   "execution_count": 11,
   "metadata": {
    "ExecuteTime": {
     "end_time": "2020-01-22T11:55:44.662247Z",
     "start_time": "2020-01-22T11:55:44.656540Z"
    }
   },
   "outputs": [
    {
     "data": {
      "text/plain": [
       "male      577\n",
       "female    314\n",
       "Name: Sex, dtype: int64"
      ]
     },
     "execution_count": 11,
     "metadata": {},
     "output_type": "execute_result"
    }
   ],
   "source": [
    "train_data['Sex'].value_counts()"
   ]
  },
  {
   "cell_type": "code",
   "execution_count": 12,
   "metadata": {
    "ExecuteTime": {
     "end_time": "2020-01-22T11:55:44.749685Z",
     "start_time": "2020-01-22T11:55:44.663525Z"
    }
   },
   "outputs": [
    {
     "data": {
      "image/png": "[encoded data removed]",
      "text/plain": [
       "<Figure size 432x288 with 1 Axes>"
      ]
     },
     "metadata": {
      "needs_background": "light"
     },
     "output_type": "display_data"
    }
   ],
   "source": [
    "plot_hist(\"Sex\")"
   ]
  },
  {
   "cell_type": "markdown",
   "metadata": {},
   "source": [
    "## Prepare the data "
   ]
  },
  {
   "cell_type": "code",
   "execution_count": 13,
   "metadata": {
    "ExecuteTime": {
     "end_time": "2020-01-22T11:55:44.959242Z",
     "start_time": "2020-01-22T11:55:44.750604Z"
    }
   },
   "outputs": [],
   "source": [
    "from sklearn.base import BaseEstimator, TransformerMixin\n",
    "\n",
    "# The following transformer will receive a list of feature names to keep and discard the rest\n",
    "\n",
    "class DataFrameSelector(BaseEstimator, TransformerMixin):\n",
    "    def __init__(self, attribute_names):\n",
    "        self.attribute_names = attribute_names\n",
    "    def fit(self, X, y=None):\n",
    "        return self\n",
    "    def transform(self, X):\n",
    "        return X[self.attribute_names]"
   ]
  },
  {
   "cell_type": "code",
   "execution_count": 126,
   "metadata": {
    "ExecuteTime": {
     "end_time": "2020-01-22T12:08:18.664374Z",
     "start_time": "2020-01-22T12:08:18.645074Z"
    }
   },
   "outputs": [
    {
     "data": {
      "text/plain": [
       "array([[22.  ],\n",
       "       [38.  ],\n",
       "       [26.  ],\n",
       "       [35.  ],\n",
       "       [35.  ],\n",
       "       [28.  ],\n",
       "       [54.  ],\n",
       "       [ 2.  ],\n",
       "       [27.  ],\n",
       "       [14.  ],\n",
       "       [ 4.  ],\n",
       "       [58.  ],\n",
       "       [20.  ],\n",
       "       [39.  ],\n",
       "       [14.  ],\n",
       "       [55.  ],\n",
       "       [ 2.  ],\n",
       "       [28.  ],\n",
       "       [31.  ],\n",
       "       [28.  ],\n",
       "       [35.  ],\n",
       "       [34.  ],\n",
       "       [15.  ],\n",
       "       [28.  ],\n",
       "       [ 8.  ],\n",
       "       [38.  ],\n",
       "       [28.  ],\n",
       "       [19.  ],\n",
       "       [28.  ],\n",
       "       [28.  ],\n",
       "       [40.  ],\n",
       "       [28.  ],\n",
       "       [28.  ],\n",
       "       [66.  ],\n",
       "       [28.  ],\n",
       "       [42.  ],\n",
       "       [28.  ],\n",
       "       [21.  ],\n",
       "       [18.  ],\n",
       "       [14.  ],\n",
       "       [40.  ],\n",
       "       [27.  ],\n",
       "       [28.  ],\n",
       "       [ 3.  ],\n",
       "       [19.  ],\n",
       "       [28.  ],\n",
       "       [28.  ],\n",
       "       [28.  ],\n",
       "       [28.  ],\n",
       "       [18.  ],\n",
       "       [ 7.  ],\n",
       "       [21.  ],\n",
       "       [49.  ],\n",
       "       [29.  ],\n",
       "       [65.  ],\n",
       "       [28.  ],\n",
       "       [21.  ],\n",
       "       [28.5 ],\n",
       "       [ 5.  ],\n",
       "       [11.  ],\n",
       "       [22.  ],\n",
       "       [38.  ],\n",
       "       [45.  ],\n",
       "       [ 4.  ],\n",
       "       [28.  ],\n",
       "       [28.  ],\n",
       "       [29.  ],\n",
       "       [19.  ],\n",
       "       [17.  ],\n",
       "       [26.  ],\n",
       "       [32.  ],\n",
       "       [16.  ],\n",
       "       [21.  ],\n",
       "       [26.  ],\n",
       "       [32.  ],\n",
       "       [25.  ],\n",
       "       [28.  ],\n",
       "       [28.  ],\n",
       "       [ 0.83],\n",
       "       [30.  ],\n",
       "       [22.  ],\n",
       "       [29.  ],\n",
       "       [28.  ],\n",
       "       [28.  ],\n",
       "       [17.  ],\n",
       "       [33.  ],\n",
       "       [16.  ],\n",
       "       [28.  ],\n",
       "       [23.  ],\n",
       "       [24.  ],\n",
       "       [29.  ],\n",
       "       [20.  ],\n",
       "       [46.  ],\n",
       "       [26.  ],\n",
       "       [59.  ],\n",
       "       [28.  ],\n",
       "       [71.  ],\n",
       "       [23.  ],\n",
       "       [34.  ],\n",
       "       [34.  ],\n",
       "       [28.  ],\n",
       "       [28.  ],\n",
       "       [21.  ],\n",
       "       [33.  ],\n",
       "       [37.  ],\n",
       "       [28.  ],\n",
       "       [21.  ],\n",
       "       [28.  ],\n",
       "       [38.  ],\n",
       "       [28.  ],\n",
       "       [47.  ],\n",
       "       [14.5 ],\n",
       "       [22.  ],\n",
       "       [20.  ],\n",
       "       [17.  ],\n",
       "       [21.  ],\n",
       "       [70.5 ],\n",
       "       [29.  ],\n",
       "       [24.  ],\n",
       "       [ 2.  ],\n",
       "       [21.  ],\n",
       "       [28.  ],\n",
       "       [32.5 ],\n",
       "       [32.5 ],\n",
       "       [54.  ],\n",
       "       [12.  ],\n",
       "       [28.  ],\n",
       "       [24.  ],\n",
       "       [28.  ],\n",
       "       [45.  ],\n",
       "       [33.  ],\n",
       "       [20.  ],\n",
       "       [47.  ],\n",
       "       [29.  ],\n",
       "       [25.  ],\n",
       "       [23.  ],\n",
       "       [19.  ],\n",
       "       [37.  ],\n",
       "       [16.  ],\n",
       "       [24.  ],\n",
       "       [28.  ],\n",
       "       [22.  ],\n",
       "       [24.  ],\n",
       "       [19.  ],\n",
       "       [18.  ],\n",
       "       [19.  ],\n",
       "       [27.  ],\n",
       "       [ 9.  ],\n",
       "       [36.5 ],\n",
       "       [42.  ],\n",
       "       [51.  ],\n",
       "       [22.  ],\n",
       "       [55.5 ],\n",
       "       [40.5 ],\n",
       "       [28.  ],\n",
       "       [51.  ],\n",
       "       [16.  ],\n",
       "       [30.  ],\n",
       "       [28.  ],\n",
       "       [28.  ],\n",
       "       [44.  ],\n",
       "       [40.  ],\n",
       "       [26.  ],\n",
       "       [17.  ],\n",
       "       [ 1.  ],\n",
       "       [ 9.  ],\n",
       "       [28.  ],\n",
       "       [45.  ],\n",
       "       [28.  ],\n",
       "       [28.  ],\n",
       "       [61.  ],\n",
       "       [ 4.  ],\n",
       "       [ 1.  ],\n",
       "       [21.  ],\n",
       "       [56.  ],\n",
       "       [18.  ],\n",
       "       [28.  ],\n",
       "       [50.  ],\n",
       "       [30.  ],\n",
       "       [36.  ],\n",
       "       [28.  ],\n",
       "       [28.  ],\n",
       "       [ 9.  ],\n",
       "       [ 1.  ],\n",
       "       [ 4.  ],\n",
       "       [28.  ],\n",
       "       [28.  ],\n",
       "       [45.  ],\n",
       "       [40.  ],\n",
       "       [36.  ],\n",
       "       [32.  ],\n",
       "       [19.  ],\n",
       "       [19.  ],\n",
       "       [ 3.  ],\n",
       "       [44.  ],\n",
       "       [58.  ],\n",
       "       [28.  ],\n",
       "       [42.  ],\n",
       "       [28.  ],\n",
       "       [24.  ],\n",
       "       [28.  ],\n",
       "       [28.  ],\n",
       "       [34.  ],\n",
       "       [45.5 ],\n",
       "       [18.  ],\n",
       "       [ 2.  ],\n",
       "       [32.  ],\n",
       "       [26.  ],\n",
       "       [16.  ],\n",
       "       [40.  ],\n",
       "       [24.  ],\n",
       "       [35.  ],\n",
       "       [22.  ],\n",
       "       [30.  ],\n",
       "       [28.  ],\n",
       "       [31.  ],\n",
       "       [27.  ],\n",
       "       [42.  ],\n",
       "       [32.  ],\n",
       "       [30.  ],\n",
       "       [16.  ],\n",
       "       [27.  ],\n",
       "       [51.  ],\n",
       "       [28.  ],\n",
       "       [38.  ],\n",
       "       [22.  ],\n",
       "       [19.  ],\n",
       "       [20.5 ],\n",
       "       [18.  ],\n",
       "       [28.  ],\n",
       "       [35.  ],\n",
       "       [29.  ],\n",
       "       [59.  ],\n",
       "       [ 5.  ],\n",
       "       [24.  ],\n",
       "       [28.  ],\n",
       "       [44.  ],\n",
       "       [ 8.  ],\n",
       "       [19.  ],\n",
       "       [33.  ],\n",
       "       [28.  ],\n",
       "       [28.  ],\n",
       "       [29.  ],\n",
       "       [22.  ],\n",
       "       [30.  ],\n",
       "       [44.  ],\n",
       "       [25.  ],\n",
       "       [24.  ],\n",
       "       [37.  ],\n",
       "       [54.  ],\n",
       "       [28.  ],\n",
       "       [29.  ],\n",
       "       [62.  ],\n",
       "       [30.  ],\n",
       "       [41.  ],\n",
       "       [29.  ],\n",
       "       [28.  ],\n",
       "       [30.  ],\n",
       "       [35.  ],\n",
       "       [50.  ],\n",
       "       [28.  ],\n",
       "       [ 3.  ],\n",
       "       [52.  ],\n",
       "       [40.  ],\n",
       "       [28.  ],\n",
       "       [36.  ],\n",
       "       [16.  ],\n",
       "       [25.  ],\n",
       "       [58.  ],\n",
       "       [35.  ],\n",
       "       [28.  ],\n",
       "       [25.  ],\n",
       "       [41.  ],\n",
       "       [37.  ],\n",
       "       [28.  ],\n",
       "       [63.  ],\n",
       "       [45.  ],\n",
       "       [28.  ],\n",
       "       [ 7.  ],\n",
       "       [35.  ],\n",
       "       [65.  ],\n",
       "       [28.  ],\n",
       "       [16.  ],\n",
       "       [19.  ],\n",
       "       [28.  ],\n",
       "       [33.  ],\n",
       "       [30.  ],\n",
       "       [22.  ],\n",
       "       [42.  ],\n",
       "       [22.  ],\n",
       "       [26.  ],\n",
       "       [19.  ],\n",
       "       [36.  ],\n",
       "       [24.  ],\n",
       "       [24.  ],\n",
       "       [28.  ],\n",
       "       [23.5 ],\n",
       "       [ 2.  ],\n",
       "       [28.  ],\n",
       "       [50.  ],\n",
       "       [28.  ],\n",
       "       [28.  ],\n",
       "       [19.  ],\n",
       "       [28.  ],\n",
       "       [28.  ],\n",
       "       [ 0.92],\n",
       "       [28.  ],\n",
       "       [17.  ],\n",
       "       [30.  ],\n",
       "       [30.  ],\n",
       "       [24.  ],\n",
       "       [18.  ],\n",
       "       [26.  ],\n",
       "       [28.  ],\n",
       "       [43.  ],\n",
       "       [26.  ],\n",
       "       [24.  ],\n",
       "       [54.  ],\n",
       "       [31.  ],\n",
       "       [40.  ],\n",
       "       [22.  ],\n",
       "       [27.  ],\n",
       "       [30.  ],\n",
       "       [22.  ],\n",
       "       [28.  ],\n",
       "       [36.  ],\n",
       "       [61.  ],\n",
       "       [36.  ],\n",
       "       [31.  ],\n",
       "       [16.  ],\n",
       "       [28.  ],\n",
       "       [45.5 ],\n",
       "       [38.  ],\n",
       "       [16.  ],\n",
       "       [28.  ],\n",
       "       [28.  ],\n",
       "       [29.  ],\n",
       "       [41.  ],\n",
       "       [45.  ],\n",
       "       [45.  ],\n",
       "       [ 2.  ],\n",
       "       [24.  ],\n",
       "       [28.  ],\n",
       "       [25.  ],\n",
       "       [36.  ],\n",
       "       [24.  ],\n",
       "       [40.  ],\n",
       "       [28.  ],\n",
       "       [ 3.  ],\n",
       "       [42.  ],\n",
       "       [23.  ],\n",
       "       [28.  ],\n",
       "       [15.  ],\n",
       "       [25.  ],\n",
       "       [28.  ],\n",
       "       [28.  ],\n",
       "       [22.  ],\n",
       "       [38.  ],\n",
       "       [28.  ],\n",
       "       [28.  ],\n",
       "       [40.  ],\n",
       "       [29.  ],\n",
       "       [45.  ],\n",
       "       [35.  ],\n",
       "       [28.  ],\n",
       "       [30.  ],\n",
       "       [60.  ],\n",
       "       [28.  ],\n",
       "       [28.  ],\n",
       "       [24.  ],\n",
       "       [25.  ],\n",
       "       [18.  ],\n",
       "       [19.  ],\n",
       "       [22.  ],\n",
       "       [ 3.  ],\n",
       "       [28.  ],\n",
       "       [22.  ],\n",
       "       [27.  ],\n",
       "       [20.  ],\n",
       "       [19.  ],\n",
       "       [42.  ],\n",
       "       [ 1.  ],\n",
       "       [32.  ],\n",
       "       [35.  ],\n",
       "       [28.  ],\n",
       "       [18.  ],\n",
       "       [ 1.  ],\n",
       "       [36.  ],\n",
       "       [28.  ],\n",
       "       [17.  ],\n",
       "       [36.  ],\n",
       "       [21.  ],\n",
       "       [28.  ],\n",
       "       [23.  ],\n",
       "       [24.  ],\n",
       "       [22.  ],\n",
       "       [31.  ],\n",
       "       [46.  ],\n",
       "       [23.  ],\n",
       "       [28.  ],\n",
       "       [39.  ],\n",
       "       [26.  ],\n",
       "       [21.  ],\n",
       "       [28.  ],\n",
       "       [20.  ],\n",
       "       [34.  ],\n",
       "       [51.  ],\n",
       "       [ 3.  ],\n",
       "       [21.  ],\n",
       "       [28.  ],\n",
       "       [28.  ],\n",
       "       [28.  ],\n",
       "       [33.  ],\n",
       "       [28.  ],\n",
       "       [44.  ],\n",
       "       [28.  ],\n",
       "       [34.  ],\n",
       "       [18.  ],\n",
       "       [30.  ],\n",
       "       [10.  ],\n",
       "       [28.  ],\n",
       "       [21.  ],\n",
       "       [29.  ],\n",
       "       [28.  ],\n",
       "       [18.  ],\n",
       "       [28.  ],\n",
       "       [28.  ],\n",
       "       [19.  ],\n",
       "       [28.  ],\n",
       "       [32.  ],\n",
       "       [28.  ],\n",
       "       [28.  ],\n",
       "       [42.  ],\n",
       "       [17.  ],\n",
       "       [50.  ],\n",
       "       [14.  ],\n",
       "       [21.  ],\n",
       "       [24.  ],\n",
       "       [64.  ],\n",
       "       [31.  ],\n",
       "       [45.  ],\n",
       "       [20.  ],\n",
       "       [25.  ],\n",
       "       [28.  ],\n",
       "       [28.  ],\n",
       "       [ 4.  ],\n",
       "       [13.  ],\n",
       "       [34.  ],\n",
       "       [ 5.  ],\n",
       "       [52.  ],\n",
       "       [36.  ],\n",
       "       [28.  ],\n",
       "       [30.  ],\n",
       "       [49.  ],\n",
       "       [28.  ],\n",
       "       [29.  ],\n",
       "       [65.  ],\n",
       "       [28.  ],\n",
       "       [50.  ],\n",
       "       [28.  ],\n",
       "       [48.  ],\n",
       "       [34.  ],\n",
       "       [47.  ],\n",
       "       [48.  ],\n",
       "       [28.  ],\n",
       "       [38.  ],\n",
       "       [28.  ],\n",
       "       [56.  ],\n",
       "       [28.  ],\n",
       "       [ 0.75],\n",
       "       [28.  ],\n",
       "       [38.  ],\n",
       "       [33.  ],\n",
       "       [23.  ],\n",
       "       [22.  ],\n",
       "       [28.  ],\n",
       "       [34.  ],\n",
       "       [29.  ],\n",
       "       [22.  ],\n",
       "       [ 2.  ],\n",
       "       [ 9.  ],\n",
       "       [28.  ],\n",
       "       [50.  ],\n",
       "       [63.  ],\n",
       "       [25.  ],\n",
       "       [28.  ],\n",
       "       [35.  ],\n",
       "       [58.  ],\n",
       "       [30.  ],\n",
       "       [ 9.  ],\n",
       "       [28.  ],\n",
       "       [21.  ],\n",
       "       [55.  ],\n",
       "       [71.  ],\n",
       "       [21.  ],\n",
       "       [28.  ],\n",
       "       [54.  ],\n",
       "       [28.  ],\n",
       "       [25.  ],\n",
       "       [24.  ],\n",
       "       [17.  ],\n",
       "       [21.  ],\n",
       "       [28.  ],\n",
       "       [37.  ],\n",
       "       [16.  ],\n",
       "       [18.  ],\n",
       "       [33.  ],\n",
       "       [28.  ],\n",
       "       [28.  ],\n",
       "       [26.  ],\n",
       "       [29.  ],\n",
       "       [28.  ],\n",
       "       [36.  ],\n",
       "       [54.  ],\n",
       "       [24.  ],\n",
       "       [47.  ],\n",
       "       [34.  ],\n",
       "       [28.  ],\n",
       "       [36.  ],\n",
       "       [32.  ],\n",
       "       [30.  ],\n",
       "       [22.  ],\n",
       "       [28.  ],\n",
       "       [44.  ],\n",
       "       [28.  ],\n",
       "       [40.5 ],\n",
       "       [50.  ],\n",
       "       [28.  ],\n",
       "       [39.  ],\n",
       "       [23.  ],\n",
       "       [ 2.  ],\n",
       "       [28.  ],\n",
       "       [17.  ],\n",
       "       [28.  ],\n",
       "       [30.  ],\n",
       "       [ 7.  ],\n",
       "       [45.  ],\n",
       "       [30.  ],\n",
       "       [28.  ],\n",
       "       [22.  ],\n",
       "       [36.  ],\n",
       "       [ 9.  ],\n",
       "       [11.  ],\n",
       "       [32.  ],\n",
       "       [50.  ],\n",
       "       [64.  ],\n",
       "       [19.  ],\n",
       "       [28.  ],\n",
       "       [33.  ],\n",
       "       [ 8.  ],\n",
       "       [17.  ],\n",
       "       [27.  ],\n",
       "       [28.  ],\n",
       "       [22.  ],\n",
       "       [22.  ],\n",
       "       [62.  ],\n",
       "       [48.  ],\n",
       "       [28.  ],\n",
       "       [39.  ],\n",
       "       [36.  ],\n",
       "       [28.  ],\n",
       "       [40.  ],\n",
       "       [28.  ],\n",
       "       [28.  ],\n",
       "       [28.  ],\n",
       "       [24.  ],\n",
       "       [19.  ],\n",
       "       [29.  ],\n",
       "       [28.  ],\n",
       "       [32.  ],\n",
       "       [62.  ],\n",
       "       [53.  ],\n",
       "       [36.  ],\n",
       "       [28.  ],\n",
       "       [16.  ],\n",
       "       [19.  ],\n",
       "       [34.  ],\n",
       "       [39.  ],\n",
       "       [28.  ],\n",
       "       [32.  ],\n",
       "       [25.  ],\n",
       "       [39.  ],\n",
       "       [54.  ],\n",
       "       [36.  ],\n",
       "       [28.  ],\n",
       "       [18.  ],\n",
       "       [47.  ],\n",
       "       [60.  ],\n",
       "       [22.  ],\n",
       "       [28.  ],\n",
       "       [35.  ],\n",
       "       [52.  ],\n",
       "       [47.  ],\n",
       "       [28.  ],\n",
       "       [37.  ],\n",
       "       [36.  ],\n",
       "       [28.  ],\n",
       "       [49.  ],\n",
       "       [28.  ],\n",
       "       [49.  ],\n",
       "       [24.  ],\n",
       "       [28.  ],\n",
       "       [28.  ],\n",
       "       [44.  ],\n",
       "       [35.  ],\n",
       "       [36.  ],\n",
       "       [30.  ],\n",
       "       [27.  ],\n",
       "       [22.  ],\n",
       "       [40.  ],\n",
       "       [39.  ],\n",
       "       [28.  ],\n",
       "       [28.  ],\n",
       "       [28.  ],\n",
       "       [35.  ],\n",
       "       [24.  ],\n",
       "       [34.  ],\n",
       "       [26.  ],\n",
       "       [ 4.  ],\n",
       "       [26.  ],\n",
       "       [27.  ],\n",
       "       [42.  ],\n",
       "       [20.  ],\n",
       "       [21.  ],\n",
       "       [21.  ],\n",
       "       [61.  ],\n",
       "       [57.  ],\n",
       "       [21.  ],\n",
       "       [26.  ],\n",
       "       [28.  ],\n",
       "       [80.  ],\n",
       "       [51.  ],\n",
       "       [32.  ],\n",
       "       [28.  ],\n",
       "       [ 9.  ],\n",
       "       [28.  ],\n",
       "       [32.  ],\n",
       "       [31.  ],\n",
       "       [41.  ],\n",
       "       [28.  ],\n",
       "       [20.  ],\n",
       "       [24.  ],\n",
       "       [ 2.  ],\n",
       "       [28.  ],\n",
       "       [ 0.75],\n",
       "       [48.  ],\n",
       "       [19.  ],\n",
       "       [56.  ],\n",
       "       [28.  ],\n",
       "       [23.  ],\n",
       "       [28.  ],\n",
       "       [18.  ],\n",
       "       [21.  ],\n",
       "       [28.  ],\n",
       "       [18.  ],\n",
       "       [24.  ],\n",
       "       [28.  ],\n",
       "       [32.  ],\n",
       "       [23.  ],\n",
       "       [58.  ],\n",
       "       [50.  ],\n",
       "       [40.  ],\n",
       "       [47.  ],\n",
       "       [36.  ],\n",
       "       [20.  ],\n",
       "       [32.  ],\n",
       "       [25.  ],\n",
       "       [28.  ],\n",
       "       [43.  ],\n",
       "       [28.  ],\n",
       "       [40.  ],\n",
       "       [31.  ],\n",
       "       [70.  ],\n",
       "       [31.  ],\n",
       "       [28.  ],\n",
       "       [18.  ],\n",
       "       [24.5 ],\n",
       "       [18.  ],\n",
       "       [43.  ],\n",
       "       [36.  ],\n",
       "       [28.  ],\n",
       "       [27.  ],\n",
       "       [20.  ],\n",
       "       [14.  ],\n",
       "       [60.  ],\n",
       "       [25.  ],\n",
       "       [14.  ],\n",
       "       [19.  ],\n",
       "       [18.  ],\n",
       "       [15.  ],\n",
       "       [31.  ],\n",
       "       [ 4.  ],\n",
       "       [28.  ],\n",
       "       [25.  ],\n",
       "       [60.  ],\n",
       "       [52.  ],\n",
       "       [44.  ],\n",
       "       [28.  ],\n",
       "       [49.  ],\n",
       "       [42.  ],\n",
       "       [18.  ],\n",
       "       [35.  ],\n",
       "       [18.  ],\n",
       "       [25.  ],\n",
       "       [26.  ],\n",
       "       [39.  ],\n",
       "       [45.  ],\n",
       "       [42.  ],\n",
       "       [22.  ],\n",
       "       [28.  ],\n",
       "       [24.  ],\n",
       "       [28.  ],\n",
       "       [48.  ],\n",
       "       [29.  ],\n",
       "       [52.  ],\n",
       "       [19.  ],\n",
       "       [38.  ],\n",
       "       [27.  ],\n",
       "       [28.  ],\n",
       "       [33.  ],\n",
       "       [ 6.  ],\n",
       "       [17.  ],\n",
       "       [34.  ],\n",
       "       [50.  ],\n",
       "       [27.  ],\n",
       "       [20.  ],\n",
       "       [30.  ],\n",
       "       [28.  ],\n",
       "       [25.  ],\n",
       "       [25.  ],\n",
       "       [29.  ],\n",
       "       [11.  ],\n",
       "       [28.  ],\n",
       "       [23.  ],\n",
       "       [23.  ],\n",
       "       [28.5 ],\n",
       "       [48.  ],\n",
       "       [35.  ],\n",
       "       [28.  ],\n",
       "       [28.  ],\n",
       "       [28.  ],\n",
       "       [36.  ],\n",
       "       [21.  ],\n",
       "       [24.  ],\n",
       "       [31.  ],\n",
       "       [70.  ],\n",
       "       [16.  ],\n",
       "       [30.  ],\n",
       "       [19.  ],\n",
       "       [31.  ],\n",
       "       [ 4.  ],\n",
       "       [ 6.  ],\n",
       "       [33.  ],\n",
       "       [23.  ],\n",
       "       [48.  ],\n",
       "       [ 0.67],\n",
       "       [28.  ],\n",
       "       [18.  ],\n",
       "       [34.  ],\n",
       "       [33.  ],\n",
       "       [28.  ],\n",
       "       [41.  ],\n",
       "       [20.  ],\n",
       "       [36.  ],\n",
       "       [16.  ],\n",
       "       [51.  ],\n",
       "       [28.  ],\n",
       "       [30.5 ],\n",
       "       [28.  ],\n",
       "       [32.  ],\n",
       "       [24.  ],\n",
       "       [48.  ],\n",
       "       [57.  ],\n",
       "       [28.  ],\n",
       "       [54.  ],\n",
       "       [18.  ],\n",
       "       [28.  ],\n",
       "       [ 5.  ],\n",
       "       [28.  ],\n",
       "       [43.  ],\n",
       "       [13.  ],\n",
       "       [17.  ],\n",
       "       [29.  ],\n",
       "       [28.  ],\n",
       "       [25.  ],\n",
       "       [25.  ],\n",
       "       [18.  ],\n",
       "       [ 8.  ],\n",
       "       [ 1.  ],\n",
       "       [46.  ],\n",
       "       [28.  ],\n",
       "       [16.  ],\n",
       "       [28.  ],\n",
       "       [28.  ],\n",
       "       [25.  ],\n",
       "       [39.  ],\n",
       "       [49.  ],\n",
       "       [31.  ],\n",
       "       [30.  ],\n",
       "       [30.  ],\n",
       "       [34.  ],\n",
       "       [31.  ],\n",
       "       [11.  ],\n",
       "       [ 0.42],\n",
       "       [27.  ],\n",
       "       [31.  ],\n",
       "       [39.  ],\n",
       "       [18.  ],\n",
       "       [39.  ],\n",
       "       [33.  ],\n",
       "       [26.  ],\n",
       "       [39.  ],\n",
       "       [35.  ],\n",
       "       [ 6.  ],\n",
       "       [30.5 ],\n",
       "       [28.  ],\n",
       "       [23.  ],\n",
       "       [31.  ],\n",
       "       [43.  ],\n",
       "       [10.  ],\n",
       "       [52.  ],\n",
       "       [27.  ],\n",
       "       [38.  ],\n",
       "       [27.  ],\n",
       "       [ 2.  ],\n",
       "       [28.  ],\n",
       "       [28.  ],\n",
       "       [ 1.  ],\n",
       "       [28.  ],\n",
       "       [62.  ],\n",
       "       [15.  ],\n",
       "       [ 0.83],\n",
       "       [28.  ],\n",
       "       [23.  ],\n",
       "       [18.  ],\n",
       "       [39.  ],\n",
       "       [21.  ],\n",
       "       [28.  ],\n",
       "       [32.  ],\n",
       "       [28.  ],\n",
       "       [20.  ],\n",
       "       [16.  ],\n",
       "       [30.  ],\n",
       "       [34.5 ],\n",
       "       [17.  ],\n",
       "       [42.  ],\n",
       "       [28.  ],\n",
       "       [35.  ],\n",
       "       [28.  ],\n",
       "       [28.  ],\n",
       "       [ 4.  ],\n",
       "       [74.  ],\n",
       "       [ 9.  ],\n",
       "       [16.  ],\n",
       "       [44.  ],\n",
       "       [18.  ],\n",
       "       [45.  ],\n",
       "       [51.  ],\n",
       "       [24.  ],\n",
       "       [28.  ],\n",
       "       [41.  ],\n",
       "       [21.  ],\n",
       "       [48.  ],\n",
       "       [28.  ],\n",
       "       [24.  ],\n",
       "       [42.  ],\n",
       "       [27.  ],\n",
       "       [31.  ],\n",
       "       [28.  ],\n",
       "       [ 4.  ],\n",
       "       [26.  ],\n",
       "       [47.  ],\n",
       "       [33.  ],\n",
       "       [47.  ],\n",
       "       [28.  ],\n",
       "       [15.  ],\n",
       "       [20.  ],\n",
       "       [19.  ],\n",
       "       [28.  ],\n",
       "       [56.  ],\n",
       "       [25.  ],\n",
       "       [33.  ],\n",
       "       [22.  ],\n",
       "       [28.  ],\n",
       "       [25.  ],\n",
       "       [39.  ],\n",
       "       [27.  ],\n",
       "       [19.  ],\n",
       "       [28.  ],\n",
       "       [26.  ],\n",
       "       [32.  ]])"
      ]
     },
     "execution_count": 126,
     "metadata": {},
     "output_type": "execute_result"
    }
   ],
   "source": [
    "from sklearn.pipeline import Pipeline\n",
    "from sklearn.impute import SimpleImputer\n",
    "from sklearn.preprocessing import StandardScaler\n",
    "\n",
    "num_pipeline = Pipeline([\n",
    "        (\"select_numeric\", DataFrameSelector([\"Age\"])),\n",
    "        (\"imputer\", SimpleImputer(strategy=\"median\"))\n",
    "    ])\n",
    "\n",
    "num_pipeline.fit_transform(train_data)"
   ]
  },
  {
   "cell_type": "code",
   "execution_count": 127,
   "metadata": {
    "ExecuteTime": {
     "end_time": "2020-01-22T12:08:19.254108Z",
     "start_time": "2020-01-22T12:08:19.245721Z"
    }
   },
   "outputs": [],
   "source": [
    "# The following inputer will fill missing values with the most frequent value (works for categorical features)\n",
    "\n",
    "class MostFrequentImputer(BaseEstimator, TransformerMixin):\n",
    "    def fit(self, X, y=None):\n",
    "        self.most_frequent_ = pd.Series([X[c].value_counts().index[0] for c in X],\n",
    "                                        index=X.columns)\n",
    "        return self\n",
    "    def transform(self, X, y=None):\n",
    "        return X.fillna(self.most_frequent_)"
   ]
  },
  {
   "cell_type": "code",
   "execution_count": 128,
   "metadata": {
    "ExecuteTime": {
     "end_time": "2020-01-22T12:08:19.398621Z",
     "start_time": "2020-01-22T12:08:19.385892Z"
    }
   },
   "outputs": [
    {
     "data": {
      "text/plain": [
       "array([[0., 0., 1., 0., 1.],\n",
       "       [1., 0., 0., 1., 0.],\n",
       "       [0., 0., 1., 1., 0.],\n",
       "       ...,\n",
       "       [0., 0., 1., 1., 0.],\n",
       "       [1., 0., 0., 0., 1.],\n",
       "       [0., 0., 1., 0., 1.]])"
      ]
     },
     "execution_count": 128,
     "metadata": {},
     "output_type": "execute_result"
    }
   ],
   "source": [
    "from sklearn.preprocessing import OneHotEncoder\n",
    "\n",
    "cat_pipeline = Pipeline([\n",
    "        (\"select_cat\", DataFrameSelector([\"Pclass\", \"Sex\"])),\n",
    "        (\"imputer\", MostFrequentImputer()),\n",
    "        (\"cat_encoder\", OneHotEncoder(sparse=False)),\n",
    "    ])\n",
    "\n",
    "cat_pipeline.fit_transform(train_data)"
   ]
  },
  {
   "cell_type": "code",
   "execution_count": 129,
   "metadata": {
    "ExecuteTime": {
     "end_time": "2020-01-22T12:08:19.534192Z",
     "start_time": "2020-01-22T12:08:19.531802Z"
    }
   },
   "outputs": [],
   "source": [
    "from sklearn.pipeline import FeatureUnion\n",
    "preprocess_pipeline = FeatureUnion(transformer_list=[\n",
    "        (\"num_pipeline\", num_pipeline),\n",
    "        (\"cat_pipeline\", cat_pipeline),\n",
    "    ])"
   ]
  },
  {
   "cell_type": "code",
   "execution_count": 130,
   "metadata": {
    "ExecuteTime": {
     "end_time": "2020-01-22T12:08:19.695014Z",
     "start_time": "2020-01-22T12:08:19.683445Z"
    }
   },
   "outputs": [
    {
     "data": {
      "text/plain": [
       "array([[22.,  0.,  0.,  1.,  0.,  1.],\n",
       "       [38.,  1.,  0.,  0.,  1.,  0.],\n",
       "       [26.,  0.,  0.,  1.,  1.,  0.],\n",
       "       ...,\n",
       "       [28.,  0.,  0.,  1.,  1.,  0.],\n",
       "       [26.,  1.,  0.,  0.,  0.,  1.],\n",
       "       [32.,  0.,  0.,  1.,  0.,  1.]])"
      ]
     },
     "execution_count": 130,
     "metadata": {},
     "output_type": "execute_result"
    }
   ],
   "source": [
    "X_train = preprocess_pipeline.fit_transform(train_data)\n",
    "X_train"
   ]
  },
  {
   "cell_type": "code",
   "execution_count": 131,
   "metadata": {
    "ExecuteTime": {
     "end_time": "2020-01-22T12:08:19.829624Z",
     "start_time": "2020-01-22T12:08:19.824846Z"
    }
   },
   "outputs": [
    {
     "data": {
      "text/plain": [
       "0      0\n",
       "1      1\n",
       "2      1\n",
       "3      1\n",
       "4      0\n",
       "      ..\n",
       "886    0\n",
       "887    1\n",
       "888    0\n",
       "889    1\n",
       "890    0\n",
       "Name: Survived, Length: 891, dtype: int64"
      ]
     },
     "execution_count": 131,
     "metadata": {},
     "output_type": "execute_result"
    }
   ],
   "source": [
    "y_train = train_data[\"Survived\"]\n",
    "y_train"
   ]
  },
  {
   "cell_type": "markdown",
   "metadata": {},
   "source": [
    "## Train Random Forest"
   ]
  },
  {
   "cell_type": "code",
   "execution_count": 132,
   "metadata": {
    "ExecuteTime": {
     "end_time": "2020-01-22T12:08:21.121021Z",
     "start_time": "2020-01-22T12:08:20.097922Z"
    }
   },
   "outputs": [
    {
     "data": {
      "text/plain": [
       "0.8148314606741573"
      ]
     },
     "execution_count": 132,
     "metadata": {},
     "output_type": "execute_result"
    }
   ],
   "source": [
    "from sklearn.ensemble import RandomForestClassifier\n",
    "from sklearn.model_selection import cross_val_score\n",
    "\n",
    "forest_clf = RandomForestClassifier(n_estimators=100, random_state=42)\n",
    "forest_scores = cross_val_score(forest_clf, X_train, y_train, cv=10)\n",
    "forest_scores.mean()"
   ]
  },
  {
   "cell_type": "code",
   "execution_count": 133,
   "metadata": {
    "ExecuteTime": {
     "end_time": "2020-01-22T12:08:22.652362Z",
     "start_time": "2020-01-22T12:08:21.121989Z"
    }
   },
   "outputs": [
    {
     "data": {
      "text/plain": [
       "GridSearchCV(cv=10, error_score=nan,\n",
       "             estimator=RandomForestClassifier(bootstrap=True, ccp_alpha=0.0,\n",
       "                                              class_weight=None,\n",
       "                                              criterion='gini', max_depth=None,\n",
       "                                              max_features='auto',\n",
       "                                              max_leaf_nodes=None,\n",
       "                                              max_samples=None,\n",
       "                                              min_impurity_decrease=0.0,\n",
       "                                              min_impurity_split=None,\n",
       "                                              min_samples_leaf=1,\n",
       "                                              min_samples_split=2,\n",
       "                                              min_weight_fraction_leaf=0.0,\n",
       "                                              n_estimators=100, n_jobs=None,\n",
       "                                              oob_score=False, random_state=42,\n",
       "                                              verbose=0, warm_start=False),\n",
       "             iid='deprecated', n_jobs=-1,\n",
       "             param_grid=[{'max_features': ['auto'],\n",
       "                          'n_estimators': [5, 10, 100]},\n",
       "                         {'bootstrap': [False], 'max_features': ['auto'],\n",
       "                          'n_estimators': [5, 10, 100]}],\n",
       "             pre_dispatch='2*n_jobs', refit=True, return_train_score=True,\n",
       "             scoring='accuracy', verbose=0)"
      ]
     },
     "execution_count": 133,
     "metadata": {},
     "output_type": "execute_result"
    }
   ],
   "source": [
    "# fine-tune\n",
    "\n",
    "from sklearn.model_selection import GridSearchCV\n",
    "\n",
    "param_grid = [\n",
    "    {'n_estimators': [5, 10, 100], 'max_features': [\"auto\"]},\n",
    "    {'bootstrap': [False], 'n_estimators': [5, 10, 100], 'max_features': [\"auto\"]},\n",
    "  ]\n",
    "\n",
    "forest_clf = RandomForestClassifier(random_state=42)\n",
    "grid_search = GridSearchCV(forest_clf, param_grid, cv=10, n_jobs=-1, scoring=\"accuracy\", return_train_score=True)\n",
    "grid_search.fit(X_train, y_train)"
   ]
  },
  {
   "cell_type": "code",
   "execution_count": 134,
   "metadata": {
    "ExecuteTime": {
     "end_time": "2020-01-22T12:08:22.656076Z",
     "start_time": "2020-01-22T12:08:22.653546Z"
    }
   },
   "outputs": [
    {
     "data": {
      "text/plain": [
       "{'bootstrap': False, 'max_features': 'auto', 'n_estimators': 10}"
      ]
     },
     "execution_count": 134,
     "metadata": {},
     "output_type": "execute_result"
    }
   ],
   "source": [
    "grid_search.best_params_"
   ]
  },
  {
   "cell_type": "code",
   "execution_count": 135,
   "metadata": {
    "ExecuteTime": {
     "end_time": "2020-01-22T12:08:22.779904Z",
     "start_time": "2020-01-22T12:08:22.657347Z"
    }
   },
   "outputs": [
    {
     "data": {
      "text/plain": [
       "0.8193258426966292"
      ]
     },
     "execution_count": 135,
     "metadata": {},
     "output_type": "execute_result"
    }
   ],
   "source": [
    "forest_clf = grid_search.best_estimator_\n",
    "forest_scores = cross_val_score(forest_clf, X_train, y_train, cv=10)\n",
    "forest_scores.mean()"
   ]
  },
  {
   "cell_type": "markdown",
   "metadata": {},
   "source": [
    "## Train a Support Vector Classifier"
   ]
  },
  {
   "cell_type": "code",
   "execution_count": 136,
   "metadata": {
    "ExecuteTime": {
     "end_time": "2020-01-22T12:08:22.801671Z",
     "start_time": "2020-01-22T12:08:22.780816Z"
    }
   },
   "outputs": [
    {
     "data": {
      "text/plain": [
       "SVC(C=1.0, break_ties=False, cache_size=200, class_weight=None, coef0=0.0,\n",
       "    decision_function_shape='ovr', degree=3, gamma='auto', kernel='rbf',\n",
       "    max_iter=-1, probability=False, random_state=None, shrinking=True,\n",
       "    tol=0.001, verbose=False)"
      ]
     },
     "execution_count": 136,
     "metadata": {},
     "output_type": "execute_result"
    }
   ],
   "source": [
    "from sklearn.svm import SVC\n",
    "\n",
    "svm_clf = SVC(gamma=\"auto\")\n",
    "svm_clf.fit(X_train, y_train)"
   ]
  },
  {
   "cell_type": "code",
   "execution_count": 137,
   "metadata": {
    "ExecuteTime": {
     "end_time": "2020-01-22T12:08:22.959091Z",
     "start_time": "2020-01-22T12:08:22.802480Z"
    }
   },
   "outputs": [
    {
     "data": {
      "text/plain": [
       "0.8069912609238452"
      ]
     },
     "execution_count": 137,
     "metadata": {},
     "output_type": "execute_result"
    }
   ],
   "source": [
    "svm_scores = cross_val_score(svm_clf, X_train, y_train, cv=10)\n",
    "svm_scores.mean()"
   ]
  },
  {
   "cell_type": "code",
   "execution_count": 138,
   "metadata": {
    "ExecuteTime": {
     "end_time": "2020-01-22T12:08:25.993813Z",
     "start_time": "2020-01-22T12:08:22.959956Z"
    }
   },
   "outputs": [
    {
     "data": {
      "text/plain": [
       "GridSearchCV(cv=10, error_score=nan,\n",
       "             estimator=SVC(C=1.0, break_ties=False, cache_size=200,\n",
       "                           class_weight=None, coef0=0.0,\n",
       "                           decision_function_shape='ovr', degree=3,\n",
       "                           gamma='scale', kernel='rbf', max_iter=-1,\n",
       "                           probability=False, random_state=42, shrinking=True,\n",
       "                           tol=0.001, verbose=False),\n",
       "             iid='deprecated', n_jobs=-1,\n",
       "             param_grid=[{'C': [1, 10, 50], 'kernel': ['linear']},\n",
       "                         {'C': [1, 10, 50], 'gamma': ['auto'],\n",
       "                          'kernel': ['rbf']}],\n",
       "             pre_dispatch='2*n_jobs', refit=True, return_train_score=True,\n",
       "             scoring='accuracy', verbose=0)"
      ]
     },
     "execution_count": 138,
     "metadata": {},
     "output_type": "execute_result"
    }
   ],
   "source": [
    "# fine-tune\n",
    "\n",
    "param_grid = [\n",
    "    {'C': [1, 10, 50], 'kernel': ['linear']},\n",
    "    {'C': [1, 10, 50], 'gamma': [\"auto\"], 'kernel': ['rbf']},\n",
    "]\n",
    "\n",
    "svm_clf = SVC(random_state=42)\n",
    "\n",
    "grid_search = GridSearchCV(svm_clf, param_grid, cv=10, n_jobs=-1, scoring='accuracy', return_train_score=True)\n",
    "grid_search.fit(X_train, y_train)"
   ]
  },
  {
   "cell_type": "code",
   "execution_count": 139,
   "metadata": {
    "ExecuteTime": {
     "end_time": "2020-01-22T12:08:25.998378Z",
     "start_time": "2020-01-22T12:08:25.995236Z"
    }
   },
   "outputs": [
    {
     "data": {
      "text/plain": [
       "{'C': 10, 'gamma': 'auto', 'kernel': 'rbf'}"
      ]
     },
     "execution_count": 139,
     "metadata": {},
     "output_type": "execute_result"
    }
   ],
   "source": [
    "grid_search.best_params_"
   ]
  },
  {
   "cell_type": "code",
   "execution_count": 140,
   "metadata": {
    "ExecuteTime": {
     "end_time": "2020-01-22T12:08:26.012034Z",
     "start_time": "2020-01-22T12:08:25.999541Z"
    }
   },
   "outputs": [
    {
     "data": {
      "text/plain": [
       "SVC(C=10, break_ties=False, cache_size=200, class_weight=None, coef0=0.0,\n",
       "    decision_function_shape='ovr', degree=3, gamma='auto', kernel='rbf',\n",
       "    max_iter=-1, probability=False, random_state=42, shrinking=True, tol=0.001,\n",
       "    verbose=False)"
      ]
     },
     "execution_count": 140,
     "metadata": {},
     "output_type": "execute_result"
    }
   ],
   "source": [
    "svm_clf = grid_search.best_estimator_\n",
    "svm_clf"
   ]
  },
  {
   "cell_type": "code",
   "execution_count": 141,
   "metadata": {
    "ExecuteTime": {
     "end_time": "2020-01-22T12:08:26.198916Z",
     "start_time": "2020-01-22T12:08:26.014563Z"
    }
   },
   "outputs": [
    {
     "data": {
      "text/plain": [
       "0.8148439450686642"
      ]
     },
     "execution_count": 141,
     "metadata": {},
     "output_type": "execute_result"
    }
   ],
   "source": [
    "svm_scores = cross_val_score(svm_clf, X_train, y_train, cv=10)\n",
    "svm_scores.mean()"
   ]
  },
  {
   "cell_type": "markdown",
   "metadata": {},
   "source": [
    "## Compare classifiers"
   ]
  },
  {
   "cell_type": "code",
   "execution_count": 142,
   "metadata": {
    "ExecuteTime": {
     "end_time": "2020-01-22T12:08:27.169878Z",
     "start_time": "2020-01-22T12:08:27.068187Z"
    }
   },
   "outputs": [
    {
     "data": {
      "image/png": "[encoded data removed]",
      "text/plain": [
       "<Figure size 576x288 with 1 Axes>"
      ]
     },
     "metadata": {
      "needs_background": "light"
     },
     "output_type": "display_data"
    }
   ],
   "source": [
    "plt.figure(figsize=(8, 4))\n",
    "plt.plot([1]*10, svm_scores, \".\")\n",
    "plt.plot([2]*10, forest_scores, \".\")\n",
    "plt.boxplot([svm_scores, forest_scores], labels=(\"SVM\",\"Random Forest\"))\n",
    "plt.ylabel(\"Accuracy\", fontsize=14)\n",
    "plt.show()"
   ]
  },
  {
   "cell_type": "markdown",
   "metadata": {},
   "source": [
    "## Submit predictions"
   ]
  },
  {
   "cell_type": "code",
   "execution_count": 143,
   "metadata": {
    "ExecuteTime": {
     "end_time": "2020-01-22T12:08:39.043431Z",
     "start_time": "2020-01-22T12:08:39.039044Z"
    }
   },
   "outputs": [],
   "source": [
    "clf = svm_clf"
   ]
  },
  {
   "cell_type": "code",
   "execution_count": 144,
   "metadata": {
    "ExecuteTime": {
     "end_time": "2020-01-22T12:08:39.208617Z",
     "start_time": "2020-01-22T12:08:39.194982Z"
    }
   },
   "outputs": [
    {
     "data": {
      "text/plain": [
       "array([0, 0, 1, 0, 1, 0, 0, 0, 0, 0, 0, 0, 1, 1, 1, 1, 0, 0, 1, 0, 0, 0,\n",
       "       1, 0, 1, 0, 1, 0, 1, 0, 0, 0, 1, 1, 0, 0, 1, 0, 0, 0, 0, 0, 0, 1,\n",
       "       1, 0, 0, 0, 1, 1, 0, 0, 1, 1, 0, 0, 0, 0, 0, 1, 0, 0, 0, 1, 1, 1,\n",
       "       0, 0, 0, 1, 1, 0, 0, 0, 1, 0, 0, 1, 0, 1, 0, 0, 1, 0, 0, 0, 1, 0,\n",
       "       1, 1, 1, 0, 1, 0, 1, 0, 0, 0, 0, 0, 1, 0, 0, 0, 1, 0, 0, 0, 0, 0,\n",
       "       0, 1, 1, 0, 1, 0, 0, 1, 1, 1, 1, 0, 1, 0, 0, 1, 0, 1, 0, 0, 0, 0,\n",
       "       1, 0, 0, 0, 0, 0, 1, 0, 0, 1, 0, 0, 1, 0, 0, 0, 0, 0, 1, 0, 0, 1,\n",
       "       1, 0, 1, 1, 1, 1, 1, 0, 1, 0, 0, 1, 1, 0, 1, 1, 0, 0, 0, 0, 0, 1,\n",
       "       1, 0, 1, 1, 0, 0, 1, 0, 1, 0, 1, 0, 1, 0, 0, 0, 0, 1, 1, 0, 1, 0,\n",
       "       0, 1, 1, 1, 0, 1, 0, 0, 1, 0, 1, 0, 0, 0, 0, 1, 0, 1, 1, 0, 1, 0,\n",
       "       1, 0, 1, 0, 1, 1, 0, 1, 0, 0, 0, 1, 0, 0, 0, 0, 0, 0, 1, 1, 1, 1,\n",
       "       0, 0, 0, 1, 1, 0, 1, 1, 1, 0, 1, 0, 0, 0, 0, 0, 1, 0, 0, 0, 1, 1,\n",
       "       0, 0, 0, 0, 1, 0, 0, 0, 1, 1, 0, 1, 0, 0, 0, 0, 1, 1, 1, 0, 0, 0,\n",
       "       0, 0, 0, 0, 0, 0, 0, 0, 0, 0, 1, 0, 0, 0, 0, 0, 0, 0, 1, 1, 0, 1,\n",
       "       0, 0, 0, 0, 0, 0, 1, 1, 0, 0, 0, 0, 0, 0, 0, 1, 1, 0, 1, 0, 0, 0,\n",
       "       1, 0, 0, 0, 0, 0, 0, 0, 0, 0, 0, 0, 0, 1, 0, 1, 0, 0, 0, 1, 1, 0,\n",
       "       0, 0, 1, 0, 1, 0, 0, 0, 0, 1, 1, 0, 1, 1, 0, 1, 1, 0, 0, 1, 1, 0,\n",
       "       1, 1, 1, 0, 0, 1, 0, 0, 1, 0, 0, 1, 0, 0, 0, 0, 0, 1, 1, 0, 0, 1,\n",
       "       0, 1, 0, 0, 1, 0, 1, 1, 1, 0, 0, 0, 1, 0, 1, 1, 1, 0, 1, 0, 0, 0])"
      ]
     },
     "execution_count": 144,
     "metadata": {},
     "output_type": "execute_result"
    }
   ],
   "source": [
    "X_test = preprocess_pipeline.transform(test_data)\n",
    "y_pred = clf.predict(X_test)\n",
    "y_pred"
   ]
  },
  {
   "cell_type": "code",
   "execution_count": 145,
   "metadata": {
    "ExecuteTime": {
     "end_time": "2020-01-22T12:08:40.231846Z",
     "start_time": "2020-01-22T12:08:40.220010Z"
    }
   },
   "outputs": [
    {
     "data": {
      "text/html": [
       "<div>\n",
       "<style scoped>\n",
       "    .dataframe tbody tr th:only-of-type {\n",
       "        vertical-align: middle;\n",
       "    }\n",
       "\n",
       "    .dataframe tbody tr th {\n",
       "        vertical-align: top;\n",
       "    }\n",
       "\n",
       "    .dataframe thead th {\n",
       "        text-align: right;\n",
       "    }\n",
       "</style>\n",
       "<table border=\"1\" class=\"dataframe\">\n",
       "  <thead>\n",
       "    <tr style=\"text-align: right;\">\n",
       "      <th></th>\n",
       "      <th>PassengerId</th>\n",
       "      <th>Survived</th>\n",
       "    </tr>\n",
       "  </thead>\n",
       "  <tbody>\n",
       "    <tr>\n",
       "      <th>0</th>\n",
       "      <td>892</td>\n",
       "      <td>0</td>\n",
       "    </tr>\n",
       "    <tr>\n",
       "      <th>1</th>\n",
       "      <td>893</td>\n",
       "      <td>0</td>\n",
       "    </tr>\n",
       "    <tr>\n",
       "      <th>2</th>\n",
       "      <td>894</td>\n",
       "      <td>1</td>\n",
       "    </tr>\n",
       "    <tr>\n",
       "      <th>3</th>\n",
       "      <td>895</td>\n",
       "      <td>0</td>\n",
       "    </tr>\n",
       "    <tr>\n",
       "      <th>4</th>\n",
       "      <td>896</td>\n",
       "      <td>1</td>\n",
       "    </tr>\n",
       "    <tr>\n",
       "      <th>...</th>\n",
       "      <td>...</td>\n",
       "      <td>...</td>\n",
       "    </tr>\n",
       "    <tr>\n",
       "      <th>413</th>\n",
       "      <td>1305</td>\n",
       "      <td>0</td>\n",
       "    </tr>\n",
       "    <tr>\n",
       "      <th>414</th>\n",
       "      <td>1306</td>\n",
       "      <td>1</td>\n",
       "    </tr>\n",
       "    <tr>\n",
       "      <th>415</th>\n",
       "      <td>1307</td>\n",
       "      <td>0</td>\n",
       "    </tr>\n",
       "    <tr>\n",
       "      <th>416</th>\n",
       "      <td>1308</td>\n",
       "      <td>0</td>\n",
       "    </tr>\n",
       "    <tr>\n",
       "      <th>417</th>\n",
       "      <td>1309</td>\n",
       "      <td>0</td>\n",
       "    </tr>\n",
       "  </tbody>\n",
       "</table>\n",
       "<p>418 rows × 2 columns</p>\n",
       "</div>"
      ],
      "text/plain": [
       "     PassengerId  Survived\n",
       "0            892         0\n",
       "1            893         0\n",
       "2            894         1\n",
       "3            895         0\n",
       "4            896         1\n",
       "..           ...       ...\n",
       "413         1305         0\n",
       "414         1306         1\n",
       "415         1307         0\n",
       "416         1308         0\n",
       "417         1309         0\n",
       "\n",
       "[418 rows x 2 columns]"
      ]
     },
     "execution_count": 145,
     "metadata": {},
     "output_type": "execute_result"
    }
   ],
   "source": [
    "submission = pd.DataFrame({\n",
    "    'PassengerId': example_submission['PassengerId'],\n",
    "    'Survived': y_pred\n",
    "})\n",
    "\n",
    "submission"
   ]
  },
  {
   "cell_type": "code",
   "execution_count": 107,
   "metadata": {
    "ExecuteTime": {
     "end_time": "2020-01-22T12:04:59.669951Z",
     "start_time": "2020-01-22T12:04:59.661191Z"
    }
   },
   "outputs": [],
   "source": [
    "filename = f'{path}/submission.csv'\n",
    "\n",
    "submission.to_csv(filename, index=False)"
   ]
  },
  {
   "cell_type": "code",
   "execution_count": 108,
   "metadata": {
    "ExecuteTime": {
     "end_time": "2020-01-22T12:05:06.407681Z",
     "start_time": "2020-01-22T12:05:00.325319Z"
    }
   },
   "outputs": [
    {
     "name": "stdout",
     "output_type": "stream",
     "text": [
      "100%|████████████████████████████████████████| 2.77k/2.77k [00:04<00:00, 627B/s]\n",
      "Successfully submitted to Titanic: Machine Learning from Disaster"
     ]
    }
   ],
   "source": [
    "!kaggle competitions submit -c titanic -f {filename} -m \"My submission\""
   ]
  },
  {
   "cell_type": "code",
   "execution_count": null,
   "metadata": {},
   "outputs": [],
   "source": []
  }
 ],
 "metadata": {
  "kernelspec": {
   "display_name": "Python 3",
   "language": "python",
   "name": "python3"
  },
  "language_info": {
   "codemirror_mode": {
    "name": "ipython",
    "version": 3
   },
   "file_extension": ".py",
   "mimetype": "text/x-python",
   "name": "python",
   "nbconvert_exporter": "python",
   "pygments_lexer": "ipython3",
   "version": "3.7.4"
  }
 },
 "nbformat": 4,
 "nbformat_minor": 2
}
